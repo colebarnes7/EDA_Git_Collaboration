{
 "cells": [
  {
   "cell_type": "code",
   "execution_count": null,
   "id": "be62ac4f",
   "metadata": {},
   "outputs": [],
   "source": [
    "# Importing pandas and matplotlib\n",
    "import pandas as pd\n",
    "import matplotlib.pyplot as plt\n",
    "\n",
    "# Read csv file into Pandas data frame\n",
    "bank_loans = pd.read_csv(\"../data/cleaned_data/cleaned_bank_loan_modeling.csv\")\n",
    "\n",
    "# Displays the csv file\n",
    "bank_loans.head()"
   ]
  },
  {
   "cell_type": "code",
   "execution_count": null,
   "id": "19f64194",
   "metadata": {},
   "outputs": [],
   "source": [
    "# Groups the data frame into people who do and do not have personal loans\n",
    "grouped = bank_loans.groupby(\"Personal Loan\")\n",
    "\n",
    "# Pulls out the income column of the grouped data frame\n",
    "income = grouped[\"Income\"]\n",
    "\n",
    "# Determines the mean income of people who do and do not have personal loans\n",
    "income_mean = income.mean()"
   ]
  },
  {
   "cell_type": "code",
   "execution_count": null,
   "id": "3dccbcee",
   "metadata": {},
   "outputs": [],
   "source": [
    "# Plots a bar chart comparing the income of clients who do and do not have personal loans\n",
    "plot = income_mean.plot(kind=\"bar\", ylabel=\"Income ($)\", rot=0,\n",
    "                        title=\"Average Income vs Personal Loan Holding Status\")\n",
    "\n",
    "# Saves plot in appropriate file as png\n",
    "plt.savefig(\"plots/income_loans_bar.png\")"
   ]
  },
  {
   "cell_type": "code",
   "execution_count": null,
   "id": "6a46e14b",
   "metadata": {},
   "outputs": [],
   "source": [
    "# Showing the min and max to help determine bins\n",
    "income.describe()"
   ]
  },
  {
   "cell_type": "code",
   "execution_count": null,
   "id": "a5ba2c2a",
   "metadata": {},
   "outputs": [],
   "source": [
    "# Creates bins and names for different income ranges\n",
    "b = [0, 25000, 75000, 150000, 225000]\n",
    "groupnames = [\"<$25,000\", \"$25,000-74,999\", \"$75,000-149,999\", \"$150,000-225,000\"]\n",
    "\n",
    "# Adds a new column income ranges based on the income of the current row\n",
    "bank_loans[\"Income Ranges\"] = pd.cut(bank_loans[\"Income\"], bins=b, labels=groupnames, \n",
    "                                    include_lowest=True)\n",
    "\n",
    "# Checks that the new column was added\n",
    "bank_loans.head()"
   ]
  },
  {
   "cell_type": "code",
   "execution_count": null,
   "id": "fbd39e25",
   "metadata": {},
   "outputs": [],
   "source": [
    "# Groups the data frame into the income ranges and then by if they have a personal loan\n",
    "income_ranges = bank_loans.groupby([\"Income Ranges\", \"Personal Loan\"])\n",
    "\n",
    "# Determines how many people are in each section of the grouped dataframe\n",
    "count = income_ranges.count()\n",
    "\n",
    "# Pulls out the count of just the income column\n",
    "count_income = count[\"Income\"]\n",
    "count_income"
   ]
  },
  {
   "cell_type": "code",
   "execution_count": null,
   "id": "153c41ac",
   "metadata": {},
   "outputs": [],
   "source": [
    "# Plots the percent of clients with a personal loan and an income less than $25,000 yearly\n",
    "plot = count_income.iloc[0:2].plot(kind=\"pie\", autopct=\"%1.1f%%\", startangle=140, \n",
    "                                  title=\"Personal Loan Percentage - Under $25,000 Income\")\n",
    "\n",
    "# Saves plot in appropriate file as png\n",
    "plt.savefig(\"plots/income_bin1_loans_pie.png\")"
   ]
  },
  {
   "cell_type": "code",
   "execution_count": null,
   "id": "82bfa96a",
   "metadata": {},
   "outputs": [],
   "source": [
    "# Plots the percent of clients with a personal loan and an income between than $25,000-74,999 yearly\n",
    "plot = count_income.iloc[2:4].plot(kind=\"pie\", autopct=\"%1.1f%%\", startangle=140, \n",
    "                                  title=\"Personal Loan Percentage - $25,000-74,999 Income\")\n",
    "\n",
    "# Saves plot in appropriate file as png\n",
    "plt.savefig(\"plots/income_bin2_loans_pie.png\")"
   ]
  },
  {
   "cell_type": "code",
   "execution_count": null,
   "id": "0adc7a12",
   "metadata": {},
   "outputs": [],
   "source": [
    "# Plots the percent of clients with a personal loan and an income between $75,000-149,999 yearly\n",
    "plot = count_income.iloc[4:6].plot(kind=\"pie\", autopct=\"%1.1f%%\", startangle=140, \n",
    "                                  title=\"Personal Loan Percentage - $75,000-149,999 Income\")\n",
    "\n",
    "# Saves plot in appropriate file as png\n",
    "plt.savefig(\"plots/income_bin3_loans_pie.png\")"
   ]
  },
  {
   "cell_type": "code",
   "execution_count": null,
   "id": "e163243d",
   "metadata": {},
   "outputs": [],
   "source": [
    "# Plots the percent of clients with a personal loan and an income between $150,000-225,000 yearly\n",
    "plot = count_income.iloc[6:8].plot(kind=\"pie\", autopct=\"%1.1f%%\", startangle=140, \n",
    "                                  title=\"Personal Loan Percentage - $150,000-225,000 Income\")\n",
    "\n",
    "# Saves plot in appropriate file as png\n",
    "plt.savefig(\"plots/income_bin4_loans_pie.png\")"
   ]
  },
  {
   "cell_type": "code",
   "execution_count": null,
   "id": "06bf2eb4",
   "metadata": {},
   "outputs": [],
   "source": []
  }
 ],
 "metadata": {
  "kernelspec": {
   "display_name": "Python [conda env:PythonData38] *",
   "language": "python",
   "name": "conda-env-PythonData38-py"
  },
  "language_info": {
   "codemirror_mode": {
    "name": "ipython",
    "version": 3
   },
   "file_extension": ".py",
   "mimetype": "text/x-python",
   "name": "python",
   "nbconvert_exporter": "python",
   "pygments_lexer": "ipython3",
   "version": "3.8.12"
  }
 },
 "nbformat": 4,
 "nbformat_minor": 5
}
