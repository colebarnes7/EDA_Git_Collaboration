{
 "cells": [
  {
   "cell_type": "code",
   "execution_count": 1,
   "id": "be62ac4f",
   "metadata": {},
   "outputs": [
    {
     "data": {
      "text/html": [
       "<div>\n",
       "<style scoped>\n",
       "    .dataframe tbody tr th:only-of-type {\n",
       "        vertical-align: middle;\n",
       "    }\n",
       "\n",
       "    .dataframe tbody tr th {\n",
       "        vertical-align: top;\n",
       "    }\n",
       "\n",
       "    .dataframe thead th {\n",
       "        text-align: right;\n",
       "    }\n",
       "</style>\n",
       "<table border=\"1\" class=\"dataframe\">\n",
       "  <thead>\n",
       "    <tr style=\"text-align: right;\">\n",
       "      <th></th>\n",
       "      <th>Age</th>\n",
       "      <th>Years Work Experience</th>\n",
       "      <th>Income</th>\n",
       "      <th>ZIP Code</th>\n",
       "      <th>Family Size</th>\n",
       "      <th>Monthly Credit Card Spending</th>\n",
       "      <th>Education Level</th>\n",
       "      <th>Value of Mortgage</th>\n",
       "      <th>Personal Loan</th>\n",
       "    </tr>\n",
       "  </thead>\n",
       "  <tbody>\n",
       "    <tr>\n",
       "      <th>0</th>\n",
       "      <td>25</td>\n",
       "      <td>1</td>\n",
       "      <td>49000</td>\n",
       "      <td>91107</td>\n",
       "      <td>4</td>\n",
       "      <td>1600</td>\n",
       "      <td>Undergrad</td>\n",
       "      <td>0</td>\n",
       "      <td>No</td>\n",
       "    </tr>\n",
       "    <tr>\n",
       "      <th>1</th>\n",
       "      <td>45</td>\n",
       "      <td>19</td>\n",
       "      <td>34000</td>\n",
       "      <td>90089</td>\n",
       "      <td>3</td>\n",
       "      <td>1500</td>\n",
       "      <td>Undergrad</td>\n",
       "      <td>0</td>\n",
       "      <td>No</td>\n",
       "    </tr>\n",
       "    <tr>\n",
       "      <th>2</th>\n",
       "      <td>39</td>\n",
       "      <td>15</td>\n",
       "      <td>11000</td>\n",
       "      <td>94720</td>\n",
       "      <td>1</td>\n",
       "      <td>1000</td>\n",
       "      <td>Undergrad</td>\n",
       "      <td>0</td>\n",
       "      <td>No</td>\n",
       "    </tr>\n",
       "    <tr>\n",
       "      <th>3</th>\n",
       "      <td>35</td>\n",
       "      <td>9</td>\n",
       "      <td>100000</td>\n",
       "      <td>94112</td>\n",
       "      <td>1</td>\n",
       "      <td>2700</td>\n",
       "      <td>Graduate</td>\n",
       "      <td>0</td>\n",
       "      <td>No</td>\n",
       "    </tr>\n",
       "    <tr>\n",
       "      <th>4</th>\n",
       "      <td>35</td>\n",
       "      <td>8</td>\n",
       "      <td>45000</td>\n",
       "      <td>91330</td>\n",
       "      <td>4</td>\n",
       "      <td>1000</td>\n",
       "      <td>Graduate</td>\n",
       "      <td>0</td>\n",
       "      <td>No</td>\n",
       "    </tr>\n",
       "  </tbody>\n",
       "</table>\n",
       "</div>"
      ],
      "text/plain": [
       "   Age  Years Work Experience  Income  ZIP Code  Family Size  \\\n",
       "0   25                      1   49000     91107            4   \n",
       "1   45                     19   34000     90089            3   \n",
       "2   39                     15   11000     94720            1   \n",
       "3   35                      9  100000     94112            1   \n",
       "4   35                      8   45000     91330            4   \n",
       "\n",
       "   Monthly Credit Card Spending Education Level  Value of Mortgage  \\\n",
       "0                          1600       Undergrad                  0   \n",
       "1                          1500       Undergrad                  0   \n",
       "2                          1000       Undergrad                  0   \n",
       "3                          2700        Graduate                  0   \n",
       "4                          1000        Graduate                  0   \n",
       "\n",
       "  Personal Loan  \n",
       "0            No  \n",
       "1            No  \n",
       "2            No  \n",
       "3            No  \n",
       "4            No  "
      ]
     },
     "execution_count": 1,
     "metadata": {},
     "output_type": "execute_result"
    }
   ],
   "source": [
    "# Importing pandas and matplotlib\n",
    "import pandas as pd\n",
    "import matplotlib.pyplot as plt\n",
    "\n",
    "# Read csv file into Pandas data frame\n",
    "bank_loans = pd.read_csv(\"../data/cleaned_data/cleaned_bank_loan_modeling.csv\")\n",
    "\n",
    "# Displays the csv file\n",
    "bank_loans.head()"
   ]
  },
  {
   "cell_type": "code",
   "execution_count": 2,
   "id": "19f64194",
   "metadata": {},
   "outputs": [],
   "source": [
    "# Groups the data frame into people who do and do not have personal loans\n",
    "grouped = bank_loans.groupby(\"Personal Loan\")\n",
    "\n",
    "# Pulls out the income column of the grouped data frame\n",
    "income = grouped[\"Income\"]\n",
    "\n",
    "# Determines the mean income of people who do and do not have personal loans\n",
    "income_mean = income.mean()"
   ]
  },
  {
   "cell_type": "code",
   "execution_count": 4,
   "id": "3dccbcee",
   "metadata": {},
   "outputs": [
    {
     "data": {
      "image/png": "[encoded data removed]",
      "text/plain": [
       "<Figure size 432x288 with 1 Axes>"
      ]
     },
     "metadata": {
      "needs_background": "light"
     },
     "output_type": "display_data"
    }
   ],
   "source": [
    "# Plots a bar chart comparing the income of clients who do and do not have personal loans\n",
    "plot = income_mean.plot(kind=\"bar\", ylabel=\"Income ($)\", rot=0,\n",
    "                        title=\"Average Income vs Personal Loan Holding Status\")\n",
    "\n",
    "# Saves plot in appropriate file as png\n",
    "plt.tight_layout()\n",
    "plt.savefig(\"../Graphs/income_plots/income_loans_bar.png\")"
   ]
  },
  {
   "cell_type": "code",
   "execution_count": 5,
   "id": "6a46e14b",
   "metadata": {},
   "outputs": [
    {
     "data": {
      "text/html": [
       "<div>\n",
       "<style scoped>\n",
       "    .dataframe tbody tr th:only-of-type {\n",
       "        vertical-align: middle;\n",
       "    }\n",
       "\n",
       "    .dataframe tbody tr th {\n",
       "        vertical-align: top;\n",
       "    }\n",
       "\n",
       "    .dataframe thead th {\n",
       "        text-align: right;\n",
       "    }\n",
       "</style>\n",
       "<table border=\"1\" class=\"dataframe\">\n",
       "  <thead>\n",
       "    <tr style=\"text-align: right;\">\n",
       "      <th></th>\n",
       "      <th>count</th>\n",
       "      <th>mean</th>\n",
       "      <th>std</th>\n",
       "      <th>min</th>\n",
       "      <th>25%</th>\n",
       "      <th>50%</th>\n",
       "      <th>75%</th>\n",
       "      <th>max</th>\n",
       "    </tr>\n",
       "    <tr>\n",
       "      <th>Personal Loan</th>\n",
       "      <th></th>\n",
       "      <th></th>\n",
       "      <th></th>\n",
       "      <th></th>\n",
       "      <th></th>\n",
       "      <th></th>\n",
       "      <th></th>\n",
       "      <th></th>\n",
       "    </tr>\n",
       "  </thead>\n",
       "  <tbody>\n",
       "    <tr>\n",
       "      <th>No</th>\n",
       "      <td>4520.0</td>\n",
       "      <td>66237.389381</td>\n",
       "      <td>40578.534417</td>\n",
       "      <td>8000.0</td>\n",
       "      <td>35000.0</td>\n",
       "      <td>59000.0</td>\n",
       "      <td>84000.0</td>\n",
       "      <td>224000.0</td>\n",
       "    </tr>\n",
       "    <tr>\n",
       "      <th>Yes</th>\n",
       "      <td>480.0</td>\n",
       "      <td>144745.833333</td>\n",
       "      <td>31584.429440</td>\n",
       "      <td>60000.0</td>\n",
       "      <td>122000.0</td>\n",
       "      <td>142500.0</td>\n",
       "      <td>172000.0</td>\n",
       "      <td>203000.0</td>\n",
       "    </tr>\n",
       "  </tbody>\n",
       "</table>\n",
       "</div>"
      ],
      "text/plain": [
       "                count           mean           std      min       25%  \\\n",
       "Personal Loan                                                           \n",
       "No             4520.0   66237.389381  40578.534417   8000.0   35000.0   \n",
       "Yes             480.0  144745.833333  31584.429440  60000.0  122000.0   \n",
       "\n",
       "                    50%       75%       max  \n",
       "Personal Loan                                \n",
       "No              59000.0   84000.0  224000.0  \n",
       "Yes            142500.0  172000.0  203000.0  "
      ]
     },
     "execution_count": 5,
     "metadata": {},
     "output_type": "execute_result"
    }
   ],
   "source": [
    "# Showing the min and max to help determine bins\n",
    "income.describe()"
   ]
  },
  {
   "cell_type": "code",
   "execution_count": 6,
   "id": "a5ba2c2a",
   "metadata": {},
   "outputs": [
    {
     "data": {
      "text/html": [
       "<div>\n",
       "<style scoped>\n",
       "    .dataframe tbody tr th:only-of-type {\n",
       "        vertical-align: middle;\n",
       "    }\n",
       "\n",
       "    .dataframe tbody tr th {\n",
       "        vertical-align: top;\n",
       "    }\n",
       "\n",
       "    .dataframe thead th {\n",
       "        text-align: right;\n",
       "    }\n",
       "</style>\n",
       "<table border=\"1\" class=\"dataframe\">\n",
       "  <thead>\n",
       "    <tr style=\"text-align: right;\">\n",
       "      <th></th>\n",
       "      <th>Age</th>\n",
       "      <th>Years Work Experience</th>\n",
       "      <th>Income</th>\n",
       "      <th>ZIP Code</th>\n",
       "      <th>Family Size</th>\n",
       "      <th>Monthly Credit Card Spending</th>\n",
       "      <th>Education Level</th>\n",
       "      <th>Value of Mortgage</th>\n",
       "      <th>Personal Loan</th>\n",
       "      <th>Income Ranges</th>\n",
       "    </tr>\n",
       "  </thead>\n",
       "  <tbody>\n",
       "    <tr>\n",
       "      <th>0</th>\n",
       "      <td>25</td>\n",
       "      <td>1</td>\n",
       "      <td>49000</td>\n",
       "      <td>91107</td>\n",
       "      <td>4</td>\n",
       "      <td>1600</td>\n",
       "      <td>Undergrad</td>\n",
       "      <td>0</td>\n",
       "      <td>No</td>\n",
       "      <td>$25,000-74,999</td>\n",
       "    </tr>\n",
       "    <tr>\n",
       "      <th>1</th>\n",
       "      <td>45</td>\n",
       "      <td>19</td>\n",
       "      <td>34000</td>\n",
       "      <td>90089</td>\n",
       "      <td>3</td>\n",
       "      <td>1500</td>\n",
       "      <td>Undergrad</td>\n",
       "      <td>0</td>\n",
       "      <td>No</td>\n",
       "      <td>$25,000-74,999</td>\n",
       "    </tr>\n",
       "    <tr>\n",
       "      <th>2</th>\n",
       "      <td>39</td>\n",
       "      <td>15</td>\n",
       "      <td>11000</td>\n",
       "      <td>94720</td>\n",
       "      <td>1</td>\n",
       "      <td>1000</td>\n",
       "      <td>Undergrad</td>\n",
       "      <td>0</td>\n",
       "      <td>No</td>\n",
       "      <td>&lt;$25,000</td>\n",
       "    </tr>\n",
       "    <tr>\n",
       "      <th>3</th>\n",
       "      <td>35</td>\n",
       "      <td>9</td>\n",
       "      <td>100000</td>\n",
       "      <td>94112</td>\n",
       "      <td>1</td>\n",
       "      <td>2700</td>\n",
       "      <td>Graduate</td>\n",
       "      <td>0</td>\n",
       "      <td>No</td>\n",
       "      <td>$75,000-149,999</td>\n",
       "    </tr>\n",
       "    <tr>\n",
       "      <th>4</th>\n",
       "      <td>35</td>\n",
       "      <td>8</td>\n",
       "      <td>45000</td>\n",
       "      <td>91330</td>\n",
       "      <td>4</td>\n",
       "      <td>1000</td>\n",
       "      <td>Graduate</td>\n",
       "      <td>0</td>\n",
       "      <td>No</td>\n",
       "      <td>$25,000-74,999</td>\n",
       "    </tr>\n",
       "  </tbody>\n",
       "</table>\n",
       "</div>"
      ],
      "text/plain": [
       "   Age  Years Work Experience  Income  ZIP Code  Family Size  \\\n",
       "0   25                      1   49000     91107            4   \n",
       "1   45                     19   34000     90089            3   \n",
       "2   39                     15   11000     94720            1   \n",
       "3   35                      9  100000     94112            1   \n",
       "4   35                      8   45000     91330            4   \n",
       "\n",
       "   Monthly Credit Card Spending Education Level  Value of Mortgage  \\\n",
       "0                          1600       Undergrad                  0   \n",
       "1                          1500       Undergrad                  0   \n",
       "2                          1000       Undergrad                  0   \n",
       "3                          2700        Graduate                  0   \n",
       "4                          1000        Graduate                  0   \n",
       "\n",
       "  Personal Loan    Income Ranges  \n",
       "0            No   $25,000-74,999  \n",
       "1            No   $25,000-74,999  \n",
       "2            No         <$25,000  \n",
       "3            No  $75,000-149,999  \n",
       "4            No   $25,000-74,999  "
      ]
     },
     "execution_count": 6,
     "metadata": {},
     "output_type": "execute_result"
    }
   ],
   "source": [
    "# Creates bins and names for different income ranges\n",
    "b = [0, 25000, 75000, 150000, 225000]\n",
    "groupnames = [\"<$25,000\", \"$25,000-74,999\", \"$75,000-149,999\", \"$150,000-225,000\"]\n",
    "\n",
    "# Adds a new column income ranges based on the income of the current row\n",
    "bank_loans[\"Income Ranges\"] = pd.cut(bank_loans[\"Income\"], bins=b, labels=groupnames, \n",
    "                                    include_lowest=True)\n",
    "\n",
    "# Checks that the new column was added\n",
    "bank_loans.head()"
   ]
  },
  {
   "cell_type": "code",
   "execution_count": 7,
   "id": "fbd39e25",
   "metadata": {},
   "outputs": [
    {
     "data": {
      "text/plain": [
       "Income Ranges     Personal Loan\n",
       "<$25,000          No                672\n",
       "                  Yes                 0\n",
       "$25,000-74,999    No               2279\n",
       "                  Yes                 7\n",
       "$75,000-149,999   No               1345\n",
       "                  Yes               255\n",
       "$150,000-225,000  No                224\n",
       "                  Yes               218\n",
       "Name: Income, dtype: int64"
      ]
     },
     "execution_count": 7,
     "metadata": {},
     "output_type": "execute_result"
    }
   ],
   "source": [
    "# Groups the data frame into the income ranges and then by if they have a personal loan\n",
    "income_ranges = bank_loans.groupby([\"Income Ranges\", \"Personal Loan\"])\n",
    "\n",
    "# Determines how many people are in each section of the grouped dataframe\n",
    "count = income_ranges.count()\n",
    "\n",
    "# Pulls out the count of just the income column\n",
    "count_income = count[\"Income\"]\n",
    "count_income"
   ]
  },
  {
   "cell_type": "code",
   "execution_count": 8,
   "id": "153c41ac",
   "metadata": {},
   "outputs": [
    {
     "data": {
      "image/png": "[encoded data removed]",
      "text/plain": [
       "<Figure size 432x288 with 1 Axes>"
      ]
     },
     "metadata": {},
     "output_type": "display_data"
    }
   ],
   "source": [
    "# Plots the percent of clients with a personal loan and an income less than $25,000 yearly\n",
    "plot = count_income.iloc[0:2].plot(kind=\"pie\", autopct=\"%1.1f%%\", startangle=140, \n",
    "                                  title=\"Personal Loan Percentage - Under $25,000 Income\")\n",
    "\n",
    "# Saves plot in appropriate file as png\n",
    "plt.savefig(\"../Graphs/income_plots/income_bin1_loans_pie.png\")"
   ]
  },
  {
   "cell_type": "code",
   "execution_count": 9,
   "id": "82bfa96a",
   "metadata": {},
   "outputs": [
    {
     "data": {
      "image/png": "[encoded data removed]",
      "text/plain": [
       "<Figure size 432x288 with 1 Axes>"
      ]
     },
     "metadata": {},
     "output_type": "display_data"
    }
   ],
   "source": [
    "# Plots the percent of clients with a personal loan and an income between than $25,000-74,999 yearly\n",
    "plot = count_income.iloc[2:4].plot(kind=\"pie\", autopct=\"%1.1f%%\", startangle=140, \n",
    "                                  title=\"Personal Loan Percentage - $25,000-74,999 Income\")\n",
    "\n",
    "# Saves plot in appropriate file as png\n",
    "plt.savefig(\"../Graphs/income_plots/income_bin2_loans_pie.png\")"
   ]
  },
  {
   "cell_type": "code",
   "execution_count": 10,
   "id": "0adc7a12",
   "metadata": {},
   "outputs": [
    {
     "data": {
      "image/png": "[encoded data removed]",
      "text/plain": [
       "<Figure size 432x288 with 1 Axes>"
      ]
     },
     "metadata": {},
     "output_type": "display_data"
    }
   ],
   "source": [
    "# Plots the percent of clients with a personal loan and an income between $75,000-149,999 yearly\n",
    "plot = count_income.iloc[4:6].plot(kind=\"pie\", autopct=\"%1.1f%%\", startangle=140, \n",
    "                                  title=\"Personal Loan Percentage - $75,000-149,999 Income\")\n",
    "\n",
    "# Saves plot in appropriate file as png\n",
    "plt.savefig(\"../Graphs/income_plots/income_bin3_loans_pie.png\")"
   ]
  },
  {
   "cell_type": "code",
   "execution_count": 11,
   "id": "e163243d",
   "metadata": {},
   "outputs": [
    {
     "data": {
      "image/png": "[encoded data removed]",
      "text/plain": [
       "<Figure size 432x288 with 1 Axes>"
      ]
     },
     "metadata": {},
     "output_type": "display_data"
    }
   ],
   "source": [
    "# Plots the percent of clients with a personal loan and an income between $150,000-225,000 yearly\n",
    "plot = count_income.iloc[6:8].plot(kind=\"pie\", autopct=\"%1.1f%%\", startangle=140, \n",
    "                                  title=\"Personal Loan Percentage - $150,000-225,000 Income\")\n",
    "\n",
    "# Saves plot in appropriate file as png\n",
    "plt.savefig(\"../Graphs/income_plots/income_bin4_loans_pie.png\")"
   ]
  },
  {
   "cell_type": "code",
   "execution_count": null,
   "id": "06bf2eb4",
   "metadata": {},
   "outputs": [],
   "source": []
  }
 ],
 "metadata": {
  "kernelspec": {
   "display_name": "Python [conda env:PythonData38] *",
   "language": "python",
   "name": "conda-env-PythonData38-py"
  },
  "language_info": {
   "codemirror_mode": {
    "name": "ipython",
    "version": 3
   },
   "file_extension": ".py",
   "mimetype": "text/x-python",
   "name": "python",
   "nbconvert_exporter": "python",
   "pygments_lexer": "ipython3",
   "version": "3.8.12"
  }
 },
 "nbformat": 4,
 "nbformat_minor": 5
}
