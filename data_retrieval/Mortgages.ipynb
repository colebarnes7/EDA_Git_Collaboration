{
 "cells": [
  {
   "cell_type": "code",
   "execution_count": 168,
   "id": "dbe96b8d",
   "metadata": {},
   "outputs": [],
   "source": [
    "# importing the dependacies\n",
    "import pandas as pd\n",
    "from pathlib import Path\n",
    "import matplotlib.pyplot as plt"
   ]
  },
  {
   "cell_type": "code",
   "execution_count": 169,
   "id": "7b05d1f9",
   "metadata": {},
   "outputs": [],
   "source": [
    "# reading the file\n",
    "# datapath = Path('project 1', 'data', 'cleaned_data', 'cleaned_bank_loan_modeling.csv')\n",
    "datapath = r'C:\\Users\\FinestRyeBread\\Desktop\\bcs\\Project 1\\project-1\\data\\cleaned_data\\cleaned_bank_loan_modeling.csv'\n",
    "df = pd.read_csv(datapath)\n",
    "copydf = pd.read_csv(datapath)"
   ]
  },
  {
   "cell_type": "code",
   "execution_count": 170,
   "id": "55e27f84",
   "metadata": {},
   "outputs": [],
   "source": [
    "# cleans up the file to find the data that we need\n",
    "count_of_loan = df['Personal Loan'].count()\n",
    "df = df.loc[df['Personal Loan'] == \"Yes\"]\n",
    "df = df.sort_values(by=['Value of Mortgage'])\n",
    "total_loans_given = df['Personal Loan'].count()\n",
    "mean_mortgage = df['Value of Mortgage'].mean()\n",
    "subhundred = df.loc[(df['Value of Mortgage'] <= 100000)]\n",
    "subhundred = subhundred['Personal Loan'].count()\n",
    "hundred_to_two = df.loc[(df['Value of Mortgage'] > 100000) & (df['Value of Mortgage'] <= 200000)]\n",
    "hundred_to_two = hundred_to_two['Personal Loan'].count()\n",
    "two_to_three = df.loc[(df['Value of Mortgage'] > 200000) & (df['Value of Mortgage'] <= 300000)]\n",
    "two_to_three = two_to_three['Personal Loan'].count()\n",
    "three_to_four = df.loc[(df['Value of Mortgage'] > 300000) & (df['Value of Mortgage'] <= 400000)]\n",
    "three_to_four = three_to_four['Personal Loan'].count()\n",
    "four_to_five = df.loc[(df['Value of Mortgage'] > 400000) & (df['Value of Mortgage'] <= 500000)]\n",
    "four_to_five = four_to_five['Personal Loan'].count()\n",
    "more_than_five = df.loc[(df['Value of Mortgage'] > 500000)]\n",
    "more_than_five = more_than_five['Personal Loan'].count()"
   ]
  },
  {
   "cell_type": "code",
   "execution_count": 171,
   "id": "a2346979",
   "metadata": {},
   "outputs": [],
   "source": [
    "# Calculations of loans that were accepted\n",
    "per_subhundred = (subhundred/total_loans_given) * 100\n",
    "per_hundred_to_two = (hundred_to_two/total_loans_given) * 100\n",
    "per_two_to_three = (two_to_three/total_loans_given) * 100\n",
    "per_three_to_four = (three_to_four/total_loans_given) * 100\n",
    "per_four_to_five = (four_to_five/total_loans_given) * 100\n",
    "per_more_than_five = (more_than_five/total_loans_given) * 100"
   ]
  },
  {
   "cell_type": "code",
   "execution_count": 172,
   "id": "90eb5f5a",
   "metadata": {
    "scrolled": true
   },
   "outputs": [
    {
     "name": "stdout",
     "output_type": "stream",
     "text": [
      "<=$100000 Mortgage Value: 67.70833333333334%\n",
      ">$100000-<=$200000 Mortgage Value: 8.125%\n",
      ">$200000-<=$300000 Mortgage Value: 8.333333333333332%\n",
      ">$300000-<=$400000 Mortgage Value: 8.333333333333332%\n",
      ">$400000-<=$500000 Mortgage Value: 4.166666666666666%\n",
      ">$500000 Mortgage Value: 3.3333333333333335%\n",
      "Mean Mortgage of the accepted loans: $100845.83333333333\n"
     ]
    }
   ],
   "source": [
    "print(f'<=$100000 Mortgage Value: {per_subhundred}%')\n",
    "print(f'>$100000-<=$200000 Mortgage Value: {per_hundred_to_two}%')\n",
    "print(f'>$200000-<=$300000 Mortgage Value: {per_two_to_three}%')\n",
    "print(f'>$300000-<=$400000 Mortgage Value: {per_three_to_four}%')\n",
    "print(f'>$400000-<=$500000 Mortgage Value: {per_four_to_five}%')\n",
    "print(f'>$500000 Mortgage Value: {per_more_than_five}%')\n",
    "print(f'Mean Mortgage of the accepted loans: ${mean_mortgage}')"
   ]
  },
  {
   "cell_type": "code",
   "execution_count": 173,
   "id": "a0afb80d",
   "metadata": {},
   "outputs": [],
   "source": [
    "# Calculations of all applications\n",
    "copydf = copydf.sort_values(by=['Value of Mortgage'])\n",
    "total_apps = copydf['Personal Loan'].count()\n",
    "all_mean_mortgage = copydf['Value of Mortgage'].mean()\n",
    "all_subhundred = copydf.loc[(copydf['Value of Mortgage'] <= 100000)]\n",
    "all_subhundred = all_subhundred['Personal Loan'].count()\n",
    "all_hundred_to_two = copydf.loc[(copydf['Value of Mortgage'] > 100000) & (copydf['Value of Mortgage'] <= 200000)]\n",
    "all_hundred_to_two = all_hundred_to_two['Personal Loan'].count()\n",
    "all_two_to_three = copydf.loc[(copydf['Value of Mortgage'] > 200000) & (copydf['Value of Mortgage'] <= 300000)]\n",
    "all_two_to_three = all_two_to_three['Personal Loan'].count()\n",
    "all_three_to_four = copydf.loc[(copydf['Value of Mortgage'] > 300000) & (copydf['Value of Mortgage'] <= 400000)]\n",
    "all_three_to_four = all_three_to_four['Personal Loan'].count()\n",
    "all_four_to_five = copydf.loc[(copydf['Value of Mortgage'] > 400000) & (copydf['Value of Mortgage'] <= 500000)]\n",
    "all_four_to_five = all_four_to_five['Personal Loan'].count()\n",
    "all_more_than_five = copydf.loc[(copydf['Value of Mortgage'] > 500000)]\n",
    "all_more_than_five = all_more_than_five['Personal Loan'].count()"
   ]
  },
  {
   "cell_type": "code",
   "execution_count": 174,
   "id": "56f71dfb",
   "metadata": {},
   "outputs": [],
   "source": [
    "# Calculations of all apps\n",
    "all_per_subhundred = (all_subhundred/total_apps) * 100\n",
    "all_per_hundred_to_two = (all_hundred_to_two/total_apps) * 100\n",
    "all_per_two_to_three = (all_two_to_three/total_apps) * 100\n",
    "all_per_three_to_four = (all_three_to_four/total_apps) * 100\n",
    "all_per_four_to_five = (all_four_to_five/total_apps) * 100\n",
    "all_per_more_than_five = (all_more_than_five/total_apps) * 100"
   ]
  },
  {
   "cell_type": "code",
   "execution_count": 175,
   "id": "0875fd87",
   "metadata": {},
   "outputs": [
    {
     "name": "stdout",
     "output_type": "stream",
     "text": [
      "<=$100000 Mortgage Value: 74.88%\n",
      ">$100000-<=$200000 Mortgage Value: 15.160000000000002%\n",
      ">$200000-<=$300000 Mortgage Value: 5.94%\n",
      ">$300000-<=$400000 Mortgage Value: 2.56%\n",
      ">$400000-<=$500000 Mortgage Value: 0.96%\n",
      ">$500000 Mortgage Value: 0.5%\n",
      "Mean Mortgage of the all loans: $56498.8\n"
     ]
    }
   ],
   "source": [
    "print(f'<=$100000 Mortgage Value: {all_per_subhundred}%')\n",
    "print(f'>$100000-<=$200000 Mortgage Value: {all_per_hundred_to_two}%')\n",
    "print(f'>$200000-<=$300000 Mortgage Value: {all_per_two_to_three}%')\n",
    "print(f'>$300000-<=$400000 Mortgage Value: {all_per_three_to_four}%')\n",
    "print(f'>$400000-<=$500000 Mortgage Value: {all_per_four_to_five}%')\n",
    "print(f'>$500000 Mortgage Value: {all_per_more_than_five}%')\n",
    "print(f'Mean Mortgage of all applications: ${all_mean_mortgage}')"
   ]
  }
 ],
 "metadata": {
  "kernelspec": {
   "display_name": "Python 3 (ipykernel)",
   "language": "python",
   "name": "python3"
  },
  "language_info": {
   "codemirror_mode": {
    "name": "ipython",
    "version": 3
   },
   "file_extension": ".py",
   "mimetype": "text/x-python",
   "name": "python",
   "nbconvert_exporter": "python",
   "pygments_lexer": "ipython3",
   "version": "3.9.7"
  }
 },
 "nbformat": 4,
 "nbformat_minor": 5
}
