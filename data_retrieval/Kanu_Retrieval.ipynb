{
 "cells": [
  {
   "cell_type": "code",
   "execution_count": 54,
   "id": "f7823a81",
   "metadata": {},
   "outputs": [
    {
     "data": {
      "text/html": [
       "<div>\n",
       "<style scoped>\n",
       "    .dataframe tbody tr th:only-of-type {\n",
       "        vertical-align: middle;\n",
       "    }\n",
       "\n",
       "    .dataframe tbody tr th {\n",
       "        vertical-align: top;\n",
       "    }\n",
       "\n",
       "    .dataframe thead th {\n",
       "        text-align: right;\n",
       "    }\n",
       "</style>\n",
       "<table border=\"1\" class=\"dataframe\">\n",
       "  <thead>\n",
       "    <tr style=\"text-align: right;\">\n",
       "      <th></th>\n",
       "      <th>Age</th>\n",
       "      <th>Years Work Experience</th>\n",
       "      <th>Income</th>\n",
       "      <th>ZIP Code</th>\n",
       "      <th>Family Size</th>\n",
       "      <th>Monthly Credit Card Spending</th>\n",
       "      <th>Education Level</th>\n",
       "      <th>Value of Mortgage</th>\n",
       "      <th>Personal Loan</th>\n",
       "    </tr>\n",
       "  </thead>\n",
       "  <tbody>\n",
       "    <tr>\n",
       "      <th>0</th>\n",
       "      <td>25</td>\n",
       "      <td>1</td>\n",
       "      <td>49000</td>\n",
       "      <td>91107</td>\n",
       "      <td>4</td>\n",
       "      <td>1600</td>\n",
       "      <td>Undergrad</td>\n",
       "      <td>0</td>\n",
       "      <td>No</td>\n",
       "    </tr>\n",
       "    <tr>\n",
       "      <th>1</th>\n",
       "      <td>45</td>\n",
       "      <td>19</td>\n",
       "      <td>34000</td>\n",
       "      <td>90089</td>\n",
       "      <td>3</td>\n",
       "      <td>1500</td>\n",
       "      <td>Undergrad</td>\n",
       "      <td>0</td>\n",
       "      <td>No</td>\n",
       "    </tr>\n",
       "    <tr>\n",
       "      <th>2</th>\n",
       "      <td>39</td>\n",
       "      <td>15</td>\n",
       "      <td>11000</td>\n",
       "      <td>94720</td>\n",
       "      <td>1</td>\n",
       "      <td>1000</td>\n",
       "      <td>Undergrad</td>\n",
       "      <td>0</td>\n",
       "      <td>No</td>\n",
       "    </tr>\n",
       "    <tr>\n",
       "      <th>3</th>\n",
       "      <td>35</td>\n",
       "      <td>9</td>\n",
       "      <td>100000</td>\n",
       "      <td>94112</td>\n",
       "      <td>1</td>\n",
       "      <td>2700</td>\n",
       "      <td>Graduate</td>\n",
       "      <td>0</td>\n",
       "      <td>No</td>\n",
       "    </tr>\n",
       "    <tr>\n",
       "      <th>4</th>\n",
       "      <td>35</td>\n",
       "      <td>8</td>\n",
       "      <td>45000</td>\n",
       "      <td>91330</td>\n",
       "      <td>4</td>\n",
       "      <td>1000</td>\n",
       "      <td>Graduate</td>\n",
       "      <td>0</td>\n",
       "      <td>No</td>\n",
       "    </tr>\n",
       "  </tbody>\n",
       "</table>\n",
       "</div>"
      ],
      "text/plain": [
       "   Age  Years Work Experience  Income  ZIP Code  Family Size  \\\n",
       "0   25                      1   49000     91107            4   \n",
       "1   45                     19   34000     90089            3   \n",
       "2   39                     15   11000     94720            1   \n",
       "3   35                      9  100000     94112            1   \n",
       "4   35                      8   45000     91330            4   \n",
       "\n",
       "   Monthly Credit Card Spending Education Level  Value of Mortgage  \\\n",
       "0                          1600       Undergrad                  0   \n",
       "1                          1500       Undergrad                  0   \n",
       "2                          1000       Undergrad                  0   \n",
       "3                          2700        Graduate                  0   \n",
       "4                          1000        Graduate                  0   \n",
       "\n",
       "  Personal Loan  \n",
       "0            No  \n",
       "1            No  \n",
       "2            No  \n",
       "3            No  \n",
       "4            No  "
      ]
     },
     "execution_count": 54,
     "metadata": {},
     "output_type": "execute_result"
    }
   ],
   "source": [
    "import pandas as pd\n",
    "import requests\n",
    "import json\n",
    "from config import api_key\n",
    "df = pd.read_csv(\"../data/cleaned_data/cleaned_bank_loan_modeling.csv\")\n",
    "\n",
    "df.head()"
   ]
  },
  {
   "cell_type": "code",
   "execution_count": 43,
   "id": "48f5a7e5",
   "metadata": {},
   "outputs": [
    {
     "data": {
      "text/plain": [
       "5000"
      ]
     },
     "execution_count": 43,
     "metadata": {},
     "output_type": "execute_result"
    }
   ],
   "source": [
    "df_zip = df['ZIP Code'].astype('str')\n",
    "df_zip.count()\n"
   ]
  },
  {
   "cell_type": "code",
   "execution_count": 12,
   "id": "3fc61b62",
   "metadata": {},
   "outputs": [
    {
     "data": {
      "text/plain": [
       "0    91107\n",
       "1    90089\n",
       "2    94720\n",
       "3    94112\n",
       "4    91330\n",
       "Name: ZIP Code, dtype: object"
      ]
     },
     "execution_count": 12,
     "metadata": {},
     "output_type": "execute_result"
    }
   ],
   "source": [
    "df_zip_limited = df_zip[0:30]\n",
    "df_zip_limited.head()"
   ]
  },
  {
   "cell_type": "code",
   "execution_count": 22,
   "id": "60f819e5",
   "metadata": {},
   "outputs": [
    {
     "data": {
      "text/plain": [
       "0    91107\n",
       "1    90089\n",
       "2    94720\n",
       "3    94112\n",
       "4    91330\n",
       "Name: ZIP Code, dtype: object"
      ]
     },
     "execution_count": 22,
     "metadata": {},
     "output_type": "execute_result"
    }
   ],
   "source": [
    "df_zip_limited.head()"
   ]
  },
  {
   "cell_type": "code",
   "execution_count": 10,
   "id": "35f7ab30",
   "metadata": {},
   "outputs": [],
   "source": [
    "df_zip_limited = [str(x) for x in df_zip_limited]\n"
   ]
  },
  {
   "cell_type": "code",
   "execution_count": 44,
   "id": "38f1b649",
   "metadata": {},
   "outputs": [
    {
     "name": "stdout",
     "output_type": "stream",
     "text": [
      "something\n"
     ]
    }
   ],
   "source": [
    "if isinstance(df_zip, pd.Series):\n",
    "    print('something')"
   ]
  },
  {
   "cell_type": "code",
   "execution_count": 50,
   "id": "73fb9c8c",
   "metadata": {},
   "outputs": [
    {
     "data": {
      "text/plain": [
       "{'92612'}"
      ]
     },
     "execution_count": 50,
     "metadata": {},
     "output_type": "execute_result"
    }
   ],
   "source": [
    "for index, value in df_zip.items():\n",
    "    zip = {value}\n",
    "zip"
   ]
  },
  {
   "cell_type": "code",
   "execution_count": 55,
   "id": "d0ba7931",
   "metadata": {},
   "outputs": [],
   "source": [
    "zip_codes=[]\n",
    "cities=[]\n",
    "\n",
    "for index, value in df_zip_limited.items():\n",
    "    zip = {value}\n",
    "    url = \"https://maps.googleapis.com/maps/api/geocode/json\"\n",
    "    params = {\"key\": api_key,\n",
    "        \"address\":zip }\n",
    "    zip_request = requests.get(url, params=params)\n",
    "    zip_request=zip_request.json()\n",
    "    cities.append(zip_request[\"results\"][0][\"address_components\"][1][\"long_name\"])\n",
    "    zip_codes.append(zip_request[\"results\"][0][\"address_components\"][0][\"long_name\"])"
   ]
  },
  {
   "cell_type": "code",
   "execution_count": 56,
   "id": "184c85ed",
   "metadata": {},
   "outputs": [
    {
     "data": {
      "text/html": [
       "<div>\n",
       "<style scoped>\n",
       "    .dataframe tbody tr th:only-of-type {\n",
       "        vertical-align: middle;\n",
       "    }\n",
       "\n",
       "    .dataframe tbody tr th {\n",
       "        vertical-align: top;\n",
       "    }\n",
       "\n",
       "    .dataframe thead th {\n",
       "        text-align: right;\n",
       "    }\n",
       "</style>\n",
       "<table border=\"1\" class=\"dataframe\">\n",
       "  <thead>\n",
       "    <tr style=\"text-align: right;\">\n",
       "      <th></th>\n",
       "      <th>Cities</th>\n",
       "      <th>Zip Code</th>\n",
       "    </tr>\n",
       "  </thead>\n",
       "  <tbody>\n",
       "    <tr>\n",
       "      <th>0</th>\n",
       "      <td>Pasadena</td>\n",
       "      <td>91107</td>\n",
       "    </tr>\n",
       "    <tr>\n",
       "      <th>1</th>\n",
       "      <td>Los Angeles</td>\n",
       "      <td>90089</td>\n",
       "    </tr>\n",
       "    <tr>\n",
       "      <th>2</th>\n",
       "      <td>Berkeley</td>\n",
       "      <td>94720</td>\n",
       "    </tr>\n",
       "    <tr>\n",
       "      <th>3</th>\n",
       "      <td>San Francisco</td>\n",
       "      <td>94112</td>\n",
       "    </tr>\n",
       "    <tr>\n",
       "      <th>4</th>\n",
       "      <td>Northridge</td>\n",
       "      <td>91330</td>\n",
       "    </tr>\n",
       "    <tr>\n",
       "      <th>5</th>\n",
       "      <td>San Diego</td>\n",
       "      <td>92121</td>\n",
       "    </tr>\n",
       "    <tr>\n",
       "      <th>6</th>\n",
       "      <td>Claremont</td>\n",
       "      <td>91711</td>\n",
       "    </tr>\n",
       "    <tr>\n",
       "      <th>7</th>\n",
       "      <td>Monterey</td>\n",
       "      <td>93943</td>\n",
       "    </tr>\n",
       "    <tr>\n",
       "      <th>8</th>\n",
       "      <td>Los Angeles</td>\n",
       "      <td>90089</td>\n",
       "    </tr>\n",
       "    <tr>\n",
       "      <th>9</th>\n",
       "      <td>Ojai</td>\n",
       "      <td>93023</td>\n",
       "    </tr>\n",
       "    <tr>\n",
       "      <th>10</th>\n",
       "      <td>Albany</td>\n",
       "      <td>94710</td>\n",
       "    </tr>\n",
       "    <tr>\n",
       "      <th>11</th>\n",
       "      <td>Redondo Beach</td>\n",
       "      <td>90277</td>\n",
       "    </tr>\n",
       "    <tr>\n",
       "      <th>12</th>\n",
       "      <td>Santa Barbara</td>\n",
       "      <td>93106</td>\n",
       "    </tr>\n",
       "    <tr>\n",
       "      <th>13</th>\n",
       "      <td>BEL TIBURON</td>\n",
       "      <td>94920</td>\n",
       "    </tr>\n",
       "    <tr>\n",
       "      <th>14</th>\n",
       "      <td>Glendora</td>\n",
       "      <td>91741</td>\n",
       "    </tr>\n",
       "    <tr>\n",
       "      <th>15</th>\n",
       "      <td>Santa Clara</td>\n",
       "      <td>95054</td>\n",
       "    </tr>\n",
       "    <tr>\n",
       "      <th>16</th>\n",
       "      <td>Capitola</td>\n",
       "      <td>95010</td>\n",
       "    </tr>\n",
       "    <tr>\n",
       "      <th>17</th>\n",
       "      <td>Palo Alto</td>\n",
       "      <td>94305</td>\n",
       "    </tr>\n",
       "    <tr>\n",
       "      <th>18</th>\n",
       "      <td>North Hollywood</td>\n",
       "      <td>91604</td>\n",
       "    </tr>\n",
       "    <tr>\n",
       "      <th>19</th>\n",
       "      <td>Berkeley</td>\n",
       "      <td>94720</td>\n",
       "    </tr>\n",
       "    <tr>\n",
       "      <th>20</th>\n",
       "      <td>Daly City</td>\n",
       "      <td>94015</td>\n",
       "    </tr>\n",
       "    <tr>\n",
       "      <th>21</th>\n",
       "      <td>Westwood</td>\n",
       "      <td>90095</td>\n",
       "    </tr>\n",
       "    <tr>\n",
       "      <th>22</th>\n",
       "      <td>Redondo Beach</td>\n",
       "      <td>90277</td>\n",
       "    </tr>\n",
       "    <tr>\n",
       "      <th>23</th>\n",
       "      <td>Newbury Park</td>\n",
       "      <td>91320</td>\n",
       "    </tr>\n",
       "    <tr>\n",
       "      <th>24</th>\n",
       "      <td>Arcata</td>\n",
       "      <td>95521</td>\n",
       "    </tr>\n",
       "    <tr>\n",
       "      <th>25</th>\n",
       "      <td>Palo Alto</td>\n",
       "      <td>94305</td>\n",
       "    </tr>\n",
       "    <tr>\n",
       "      <th>26</th>\n",
       "      <td>Santa Cruz</td>\n",
       "      <td>95064</td>\n",
       "    </tr>\n",
       "    <tr>\n",
       "      <th>27</th>\n",
       "      <td>Rancho Park</td>\n",
       "      <td>90064</td>\n",
       "    </tr>\n",
       "    <tr>\n",
       "      <th>28</th>\n",
       "      <td>Fremont</td>\n",
       "      <td>94539</td>\n",
       "    </tr>\n",
       "    <tr>\n",
       "      <th>29</th>\n",
       "      <td>San Francisco</td>\n",
       "      <td>94104</td>\n",
       "    </tr>\n",
       "  </tbody>\n",
       "</table>\n",
       "</div>"
      ],
      "text/plain": [
       "             Cities Zip Code\n",
       "0          Pasadena    91107\n",
       "1       Los Angeles    90089\n",
       "2          Berkeley    94720\n",
       "3     San Francisco    94112\n",
       "4        Northridge    91330\n",
       "5         San Diego    92121\n",
       "6         Claremont    91711\n",
       "7          Monterey    93943\n",
       "8       Los Angeles    90089\n",
       "9              Ojai    93023\n",
       "10           Albany    94710\n",
       "11    Redondo Beach    90277\n",
       "12    Santa Barbara    93106\n",
       "13      BEL TIBURON    94920\n",
       "14         Glendora    91741\n",
       "15      Santa Clara    95054\n",
       "16         Capitola    95010\n",
       "17        Palo Alto    94305\n",
       "18  North Hollywood    91604\n",
       "19         Berkeley    94720\n",
       "20        Daly City    94015\n",
       "21         Westwood    90095\n",
       "22    Redondo Beach    90277\n",
       "23     Newbury Park    91320\n",
       "24           Arcata    95521\n",
       "25        Palo Alto    94305\n",
       "26       Santa Cruz    95064\n",
       "27      Rancho Park    90064\n",
       "28          Fremont    94539\n",
       "29    San Francisco    94104"
      ]
     },
     "execution_count": 56,
     "metadata": {},
     "output_type": "execute_result"
    }
   ],
   "source": [
    "# create dataframe\n",
    "zip_city_df = pd.DataFrame({\n",
    "    \"Cities\": cities,\n",
    "    \"Zip Code\": zip_codes\n",
    "})\n",
    "\n",
    "zip_city_df"
   ]
  },
  {
   "cell_type": "code",
   "execution_count": 35,
   "id": "7dd995c4",
   "metadata": {},
   "outputs": [
    {
     "name": "stdout",
     "output_type": "stream",
     "text": [
      "San Francisco\n",
      "94104\n"
     ]
    }
   ],
   "source": [
    "print(zip_request[\"results\"][0][\"address_components\"][1][\"long_name\"])\n",
    "print(zip_request[\"results\"][0][\"address_components\"][0][\"long_name\"])"
   ]
  },
  {
   "cell_type": "code",
   "execution_count": null,
   "id": "e188bb0f",
   "metadata": {},
   "outputs": [],
   "source": []
  }
 ],
 "metadata": {
  "kernelspec": {
   "display_name": "Python 3 (ipykernel)",
   "language": "python",
   "name": "python3"
  },
  "language_info": {
   "codemirror_mode": {
    "name": "ipython",
    "version": 3
   },
   "file_extension": ".py",
   "mimetype": "text/x-python",
   "name": "python",
   "nbconvert_exporter": "python",
   "pygments_lexer": "ipython3",
   "version": "3.8.13"
  }
 },
 "nbformat": 4,
 "nbformat_minor": 5
}
