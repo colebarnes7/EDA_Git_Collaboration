{
 "cells": [
  {
   "cell_type": "code",
   "execution_count": 72,
   "id": "aefd1dcb",
   "metadata": {},
   "outputs": [
    {
     "data": {
      "text/html": [
       "<div>\n",
       "<style scoped>\n",
       "    .dataframe tbody tr th:only-of-type {\n",
       "        vertical-align: middle;\n",
       "    }\n",
       "\n",
       "    .dataframe tbody tr th {\n",
       "        vertical-align: top;\n",
       "    }\n",
       "\n",
       "    .dataframe thead th {\n",
       "        text-align: right;\n",
       "    }\n",
       "</style>\n",
       "<table border=\"1\" class=\"dataframe\">\n",
       "  <thead>\n",
       "    <tr style=\"text-align: right;\">\n",
       "      <th></th>\n",
       "      <th>Age</th>\n",
       "      <th>Years Work Experience</th>\n",
       "      <th>Income</th>\n",
       "      <th>ZIP Code</th>\n",
       "      <th>Family Size</th>\n",
       "      <th>Monthly Credit Card Spending</th>\n",
       "      <th>Education Level</th>\n",
       "      <th>Value of Mortgage</th>\n",
       "      <th>Personal Loan</th>\n",
       "    </tr>\n",
       "  </thead>\n",
       "  <tbody>\n",
       "    <tr>\n",
       "      <th>0</th>\n",
       "      <td>25</td>\n",
       "      <td>1</td>\n",
       "      <td>49000</td>\n",
       "      <td>91107</td>\n",
       "      <td>4</td>\n",
       "      <td>1600</td>\n",
       "      <td>Undergrad</td>\n",
       "      <td>0</td>\n",
       "      <td>No</td>\n",
       "    </tr>\n",
       "    <tr>\n",
       "      <th>1</th>\n",
       "      <td>45</td>\n",
       "      <td>19</td>\n",
       "      <td>34000</td>\n",
       "      <td>90089</td>\n",
       "      <td>3</td>\n",
       "      <td>1500</td>\n",
       "      <td>Undergrad</td>\n",
       "      <td>0</td>\n",
       "      <td>No</td>\n",
       "    </tr>\n",
       "    <tr>\n",
       "      <th>2</th>\n",
       "      <td>39</td>\n",
       "      <td>15</td>\n",
       "      <td>11000</td>\n",
       "      <td>94720</td>\n",
       "      <td>1</td>\n",
       "      <td>1000</td>\n",
       "      <td>Undergrad</td>\n",
       "      <td>0</td>\n",
       "      <td>No</td>\n",
       "    </tr>\n",
       "    <tr>\n",
       "      <th>3</th>\n",
       "      <td>35</td>\n",
       "      <td>9</td>\n",
       "      <td>100000</td>\n",
       "      <td>94112</td>\n",
       "      <td>1</td>\n",
       "      <td>2700</td>\n",
       "      <td>Graduate</td>\n",
       "      <td>0</td>\n",
       "      <td>No</td>\n",
       "    </tr>\n",
       "    <tr>\n",
       "      <th>4</th>\n",
       "      <td>35</td>\n",
       "      <td>8</td>\n",
       "      <td>45000</td>\n",
       "      <td>91330</td>\n",
       "      <td>4</td>\n",
       "      <td>1000</td>\n",
       "      <td>Graduate</td>\n",
       "      <td>0</td>\n",
       "      <td>No</td>\n",
       "    </tr>\n",
       "  </tbody>\n",
       "</table>\n",
       "</div>"
      ],
      "text/plain": [
       "   Age  Years Work Experience  Income  ZIP Code  Family Size  \\\n",
       "0   25                      1   49000     91107            4   \n",
       "1   45                     19   34000     90089            3   \n",
       "2   39                     15   11000     94720            1   \n",
       "3   35                      9  100000     94112            1   \n",
       "4   35                      8   45000     91330            4   \n",
       "\n",
       "   Monthly Credit Card Spending Education Level  Value of Mortgage  \\\n",
       "0                          1600       Undergrad                  0   \n",
       "1                          1500       Undergrad                  0   \n",
       "2                          1000       Undergrad                  0   \n",
       "3                          2700        Graduate                  0   \n",
       "4                          1000        Graduate                  0   \n",
       "\n",
       "  Personal Loan  \n",
       "0            No  \n",
       "1            No  \n",
       "2            No  \n",
       "3            No  \n",
       "4            No  "
      ]
     },
     "execution_count": 72,
     "metadata": {},
     "output_type": "execute_result"
    }
   ],
   "source": [
    "import pandas as pd\n",
    "import requests\n",
    "import json\n",
    "from matplotlib import pyplot as plt\n",
    "from scipy import stats\n",
    "import numpy as np\n",
    "import scipy.stats as st\n",
    "\n",
    "df = pd.read_csv(\"../data/cleaned_data/cleaned_bank_loan_modeling.csv\")\n",
    "df_try = pd.read_csv(\"../data/cleaned_data/cleaned_bank_loan_modeling.csv\")\n",
    "\n",
    "df_try.head()"
   ]
  },
  {
   "cell_type": "code",
   "execution_count": 87,
   "id": "33009e4a",
   "metadata": {},
   "outputs": [],
   "source": [
    "df['Personal Loan'] = df['Personal Loan'].astype('|S')"
   ]
  },
  {
   "cell_type": "code",
   "execution_count": 88,
   "id": "888c31c7",
   "metadata": {},
   "outputs": [
    {
     "data": {
      "text/plain": [
       "dtype('S3')"
      ]
     },
     "execution_count": 88,
     "metadata": {},
     "output_type": "execute_result"
    }
   ],
   "source": [
    "df['Personal Loan'].dtype"
   ]
  },
  {
   "cell_type": "code",
   "execution_count": 89,
   "id": "b39aa05d",
   "metadata": {},
   "outputs": [
    {
     "ename": "ValueError",
     "evalue": "Buffer dtype mismatch, expected 'Python object' but got a string",
     "output_type": "error",
     "traceback": [
      "\u001b[0;31m---------------------------------------------------------------------------\u001b[0m",
      "\u001b[0;31mValueError\u001b[0m                                Traceback (most recent call last)",
      "Input \u001b[0;32mIn [89]\u001b[0m, in \u001b[0;36m<cell line: 2>\u001b[0;34m()\u001b[0m\n\u001b[1;32m      1\u001b[0m \u001b[38;5;66;03m#Seperating dataframe into accounts that accepted or declined the personal loan\u001b[39;00m\n\u001b[0;32m----> 2\u001b[0m loan_yes \u001b[38;5;241m=\u001b[39m pd\u001b[38;5;241m.\u001b[39mDataFrame(df\u001b[38;5;241m.\u001b[39mloc[\u001b[43mdf\u001b[49m\u001b[43m[\u001b[49m\u001b[38;5;124;43m'\u001b[39;49m\u001b[38;5;124;43mPersonal Loan\u001b[39;49m\u001b[38;5;124;43m'\u001b[39;49m\u001b[43m]\u001b[49m\u001b[43m \u001b[49m\u001b[38;5;241;43m==\u001b[39;49m\u001b[43m \u001b[49m\u001b[38;5;124;43m'\u001b[39;49m\u001b[38;5;124;43mYes\u001b[39;49m\u001b[38;5;124;43m'\u001b[39;49m])\n\u001b[1;32m      3\u001b[0m loan_no \u001b[38;5;241m=\u001b[39m pd\u001b[38;5;241m.\u001b[39mDataFrame(df\u001b[38;5;241m.\u001b[39mloc[df[\u001b[38;5;124m'\u001b[39m\u001b[38;5;124mPersonal Loan\u001b[39m\u001b[38;5;124m'\u001b[39m] \u001b[38;5;241m==\u001b[39m \u001b[38;5;124m'\u001b[39m\u001b[38;5;124mNo\u001b[39m\u001b[38;5;124m'\u001b[39m])\n",
      "File \u001b[0;32m/usr/local/Caskroom/miniconda/base/envs/Python38/lib/python3.8/site-packages/pandas/core/ops/common.py:70\u001b[0m, in \u001b[0;36m_unpack_zerodim_and_defer.<locals>.new_method\u001b[0;34m(self, other)\u001b[0m\n\u001b[1;32m     66\u001b[0m             \u001b[38;5;28;01mreturn\u001b[39;00m \u001b[38;5;28mNotImplemented\u001b[39m\n\u001b[1;32m     68\u001b[0m other \u001b[38;5;241m=\u001b[39m item_from_zerodim(other)\n\u001b[0;32m---> 70\u001b[0m \u001b[38;5;28;01mreturn\u001b[39;00m \u001b[43mmethod\u001b[49m\u001b[43m(\u001b[49m\u001b[38;5;28;43mself\u001b[39;49m\u001b[43m,\u001b[49m\u001b[43m \u001b[49m\u001b[43mother\u001b[49m\u001b[43m)\u001b[49m\n",
      "File \u001b[0;32m/usr/local/Caskroom/miniconda/base/envs/Python38/lib/python3.8/site-packages/pandas/core/arraylike.py:40\u001b[0m, in \u001b[0;36mOpsMixin.__eq__\u001b[0;34m(self, other)\u001b[0m\n\u001b[1;32m     38\u001b[0m \u001b[38;5;129m@unpack_zerodim_and_defer\u001b[39m(\u001b[38;5;124m\"\u001b[39m\u001b[38;5;124m__eq__\u001b[39m\u001b[38;5;124m\"\u001b[39m)\n\u001b[1;32m     39\u001b[0m \u001b[38;5;28;01mdef\u001b[39;00m \u001b[38;5;21m__eq__\u001b[39m(\u001b[38;5;28mself\u001b[39m, other):\n\u001b[0;32m---> 40\u001b[0m     \u001b[38;5;28;01mreturn\u001b[39;00m \u001b[38;5;28;43mself\u001b[39;49m\u001b[38;5;241;43m.\u001b[39;49m\u001b[43m_cmp_method\u001b[49m\u001b[43m(\u001b[49m\u001b[43mother\u001b[49m\u001b[43m,\u001b[49m\u001b[43m \u001b[49m\u001b[43moperator\u001b[49m\u001b[38;5;241;43m.\u001b[39;49m\u001b[43meq\u001b[49m\u001b[43m)\u001b[49m\n",
      "File \u001b[0;32m/usr/local/Caskroom/miniconda/base/envs/Python38/lib/python3.8/site-packages/pandas/core/series.py:5623\u001b[0m, in \u001b[0;36mSeries._cmp_method\u001b[0;34m(self, other, op)\u001b[0m\n\u001b[1;32m   5620\u001b[0m rvalues \u001b[38;5;241m=\u001b[39m extract_array(other, extract_numpy\u001b[38;5;241m=\u001b[39m\u001b[38;5;28;01mTrue\u001b[39;00m, extract_range\u001b[38;5;241m=\u001b[39m\u001b[38;5;28;01mTrue\u001b[39;00m)\n\u001b[1;32m   5622\u001b[0m \u001b[38;5;28;01mwith\u001b[39;00m np\u001b[38;5;241m.\u001b[39merrstate(\u001b[38;5;28mall\u001b[39m\u001b[38;5;241m=\u001b[39m\u001b[38;5;124m\"\u001b[39m\u001b[38;5;124mignore\u001b[39m\u001b[38;5;124m\"\u001b[39m):\n\u001b[0;32m-> 5623\u001b[0m     res_values \u001b[38;5;241m=\u001b[39m \u001b[43mops\u001b[49m\u001b[38;5;241;43m.\u001b[39;49m\u001b[43mcomparison_op\u001b[49m\u001b[43m(\u001b[49m\u001b[43mlvalues\u001b[49m\u001b[43m,\u001b[49m\u001b[43m \u001b[49m\u001b[43mrvalues\u001b[49m\u001b[43m,\u001b[49m\u001b[43m \u001b[49m\u001b[43mop\u001b[49m\u001b[43m)\u001b[49m\n\u001b[1;32m   5625\u001b[0m \u001b[38;5;28;01mreturn\u001b[39;00m \u001b[38;5;28mself\u001b[39m\u001b[38;5;241m.\u001b[39m_construct_result(res_values, name\u001b[38;5;241m=\u001b[39mres_name)\n",
      "File \u001b[0;32m/usr/local/Caskroom/miniconda/base/envs/Python38/lib/python3.8/site-packages/pandas/core/ops/array_ops.py:283\u001b[0m, in \u001b[0;36mcomparison_op\u001b[0;34m(left, right, op)\u001b[0m\n\u001b[1;32m    280\u001b[0m     \u001b[38;5;28;01mreturn\u001b[39;00m invalid_comparison(lvalues, rvalues, op)\n\u001b[1;32m    282\u001b[0m \u001b[38;5;28;01melif\u001b[39;00m is_object_dtype(lvalues\u001b[38;5;241m.\u001b[39mdtype) \u001b[38;5;129;01mor\u001b[39;00m \u001b[38;5;28misinstance\u001b[39m(rvalues, \u001b[38;5;28mstr\u001b[39m):\n\u001b[0;32m--> 283\u001b[0m     res_values \u001b[38;5;241m=\u001b[39m \u001b[43mcomp_method_OBJECT_ARRAY\u001b[49m\u001b[43m(\u001b[49m\u001b[43mop\u001b[49m\u001b[43m,\u001b[49m\u001b[43m \u001b[49m\u001b[43mlvalues\u001b[49m\u001b[43m,\u001b[49m\u001b[43m \u001b[49m\u001b[43mrvalues\u001b[49m\u001b[43m)\u001b[49m\n\u001b[1;32m    285\u001b[0m \u001b[38;5;28;01melse\u001b[39;00m:\n\u001b[1;32m    286\u001b[0m     res_values \u001b[38;5;241m=\u001b[39m _na_arithmetic_op(lvalues, rvalues, op, is_cmp\u001b[38;5;241m=\u001b[39m\u001b[38;5;28;01mTrue\u001b[39;00m)\n",
      "File \u001b[0;32m/usr/local/Caskroom/miniconda/base/envs/Python38/lib/python3.8/site-packages/pandas/core/ops/array_ops.py:73\u001b[0m, in \u001b[0;36mcomp_method_OBJECT_ARRAY\u001b[0;34m(op, x, y)\u001b[0m\n\u001b[1;32m     71\u001b[0m     result \u001b[38;5;241m=\u001b[39m libops\u001b[38;5;241m.\u001b[39mvec_compare(x\u001b[38;5;241m.\u001b[39mravel(), y\u001b[38;5;241m.\u001b[39mravel(), op)\n\u001b[1;32m     72\u001b[0m \u001b[38;5;28;01melse\u001b[39;00m:\n\u001b[0;32m---> 73\u001b[0m     result \u001b[38;5;241m=\u001b[39m \u001b[43mlibops\u001b[49m\u001b[38;5;241;43m.\u001b[39;49m\u001b[43mscalar_compare\u001b[49m\u001b[43m(\u001b[49m\u001b[43mx\u001b[49m\u001b[38;5;241;43m.\u001b[39;49m\u001b[43mravel\u001b[49m\u001b[43m(\u001b[49m\u001b[43m)\u001b[49m\u001b[43m,\u001b[49m\u001b[43m \u001b[49m\u001b[43my\u001b[49m\u001b[43m,\u001b[49m\u001b[43m \u001b[49m\u001b[43mop\u001b[49m\u001b[43m)\u001b[49m\n\u001b[1;32m     74\u001b[0m \u001b[38;5;28;01mreturn\u001b[39;00m result\u001b[38;5;241m.\u001b[39mreshape(x\u001b[38;5;241m.\u001b[39mshape)\n",
      "File \u001b[0;32m/usr/local/Caskroom/miniconda/base/envs/Python38/lib/python3.8/site-packages/pandas/_libs/ops.pyx:32\u001b[0m, in \u001b[0;36mpandas._libs.ops.scalar_compare\u001b[0;34m()\u001b[0m\n",
      "\u001b[0;31mValueError\u001b[0m: Buffer dtype mismatch, expected 'Python object' but got a string"
     ]
    }
   ],
   "source": [
    "#Seperating dataframe into accounts that accepted or declined the personal loan\n",
    "loan_yes = pd.DataFrame(df.loc[df['Personal Loan'] == 'Yes'])\n",
    "loan_no = pd.DataFrame(df.loc[df['Personal Loan'] == 'No'])"
   ]
  },
  {
   "cell_type": "code",
   "execution_count": 73,
   "id": "530e3399",
   "metadata": {},
   "outputs": [
    {
     "name": "stdout",
     "output_type": "stream",
     "text": [
      "The mean temperature at the LAX airport is 100845.83333333333\n",
      "The median temperature at the LAX airport is 0.0\n",
      "The mode temperature at the LAX airport is ModeResult(mode=array([0]), count=array([312]))\n"
     ]
    }
   ],
   "source": [
    "mean_mortgage = np.mean(loan_yes['Value of Mortgage'])\n",
    "print(f\"The mean temperature at the LAX airport is {mean_mortgage}\")\n",
    "\n",
    "median_mortgage = np.median(loan_yes['Value of Mortgage'])\n",
    "print(f\"The median temperature at the LAX airport is {median_mortgage}\")\n",
    "\n",
    "mode_mortgage = st.mode(loan_yes['Value of Mortgage'])\n",
    "print(f\"The mode temperature at the LAX airport is {mode_mortgage}\")"
   ]
  },
  {
   "cell_type": "code",
   "execution_count": 74,
   "id": "791c3aa8",
   "metadata": {},
   "outputs": [
    {
     "ename": "ConversionError",
     "evalue": "Failed to convert value(s) to axis units: array(['Advanced/Professional', 'Advanced/Professional',\n       'Advanced/Professional', 'Graduate', 'Advanced/Professional',\n       'Graduate', 'Advanced/Professional', 'Advanced/Professional',\n       'Advanced/Professional', 'Graduate', 'Advanced/Professional',\n       'Graduate', 'Graduate', 'Advanced/Professional',\n       'Advanced/Professional', 'Graduate', 'Undergrad',\n       'Advanced/Professional', 'Advanced/Professional', 'Undergrad',\n       'Advanced/Professional', 'Graduate', 'Graduate',\n       'Advanced/Professional', 'Advanced/Professional',\n       'Advanced/Professional', 'Advanced/Professional', 'Undergrad',\n       'Graduate', 'Graduate', 'Graduate', 'Undergrad', 'Undergrad',\n       'Undergrad', 'Undergrad', 'Undergrad', 'Graduate', 'Graduate',\n       'Undergrad', 'Advanced/Professional', 'Undergrad', 'Graduate',\n       'Graduate', 'Advanced/Professional', 'Advanced/Professional',\n       'Graduate', 'Advanced/Professional', 'Graduate', 'Graduate',\n       'Graduate', 'Graduate', 'Undergrad', 'Advanced/Professional',\n       'Advanced/Professional', 'Graduate', 'Advanced/Professional',\n       'Advanced/Professional', 'Graduate', 'Advanced/Professional',\n       'Advanced/Professional', 'Advanced/Professional', 'Graduate',\n       'Graduate', 'Advanced/Professional', 'Undergrad', 'Graduate',\n       'Graduate', 'Advanced/Professional', 'Graduate', 'Undergrad',\n       'Graduate', 'Advanced/Professional', 'Advanced/Professional',\n       'Advanced/Professional', 'Advanced/Professional',\n       'Advanced/Professional', 'Advanced/Professional', 'Graduate',\n       'Graduate', 'Undergrad', 'Graduate', 'Advanced/Professional',\n       'Undergrad', 'Undergrad', 'Graduate', 'Undergrad', 'Graduate',\n       'Advanced/Professional', 'Undergrad', 'Advanced/Professional',\n       'Advanced/Professional', 'Graduate', 'Advanced/Professional',\n       'Undergrad', 'Graduate', 'Graduate', 'Advanced/Professional',\n       'Advanced/Professional', 'Graduate', 'Graduate',\n       'Advanced/Professional', 'Graduate', 'Advanced/Professional',\n       'Advanced/Professional', 'Undergrad', 'Graduate',\n       'Advanced/Professional', 'Undergrad', 'Advanced/Professional',\n       'Advanced/Professional', 'Undergrad', 'Graduate', 'Undergrad',\n       'Graduate', 'Undergrad', 'Advanced/Professional',\n       'Advanced/Professional', 'Advanced/Professional', 'Undergrad',\n       'Graduate', 'Graduate', 'Undergrad', 'Graduate', 'Graduate',\n       'Graduate', 'Advanced/Professional', 'Graduate',\n       'Advanced/Professional', 'Graduate', 'Advanced/Professional',\n       'Graduate', 'Graduate', 'Graduate', 'Undergrad', 'Graduate',\n       'Graduate', 'Graduate', 'Undergrad', 'Advanced/Professional',\n       'Advanced/Professional', 'Advanced/Professional', 'Graduate',\n       'Graduate', 'Advanced/Professional', 'Advanced/Professional',\n       'Advanced/Professional', 'Graduate', 'Graduate', 'Undergrad',\n       'Graduate', 'Advanced/Professional', 'Graduate', 'Graduate',\n       'Advanced/Professional', 'Advanced/Professional', 'Graduate',\n       'Undergrad', 'Undergrad', 'Undergrad', 'Undergrad', 'Graduate',\n       'Graduate', 'Advanced/Professional', 'Advanced/Professional',\n       'Advanced/Professional', 'Graduate', 'Advanced/Professional',\n       'Graduate', 'Graduate', 'Advanced/Professional',\n       'Advanced/Professional', 'Advanced/Professional',\n       'Advanced/Professional', 'Advanced/Professional', 'Graduate',\n       'Undergrad', 'Graduate', 'Undergrad', 'Undergrad',\n       'Advanced/Professional', 'Undergrad', 'Undergrad', 'Undergrad',\n       'Advanced/Professional', 'Advanced/Professional', 'Undergrad',\n       'Graduate', 'Graduate', 'Advanced/Professional',\n       'Advanced/Professional', 'Undergrad', 'Advanced/Professional',\n       'Undergrad', 'Undergrad', 'Graduate', 'Undergrad',\n       'Advanced/Professional', 'Advanced/Professional',\n       'Advanced/Professional', 'Advanced/Professional', 'Graduate',\n       'Undergrad', 'Graduate', 'Advanced/Professional',\n       'Advanced/Professional', 'Undergrad', 'Graduate', 'Graduate',\n       'Graduate', 'Graduate', 'Advanced/Professional', 'Graduate',\n       'Advanced/Professional', 'Advanced/Professional',\n       'Advanced/Professional', 'Advanced/Professional', 'Graduate',\n       'Undergrad', 'Advanced/Professional', 'Graduate',\n       'Advanced/Professional', 'Graduate', 'Graduate',\n       'Advanced/Professional', 'Graduate', 'Graduate',\n       'Advanced/Professional', 'Graduate', 'Graduate', 'Graduate',\n       'Advanced/Professional', 'Graduate', 'Undergrad',\n       'Advanced/Professional', 'Graduate', 'Undergrad', 'Graduate',\n       'Advanced/Professional', 'Undergrad', 'Graduate', 'Undergrad',\n       'Graduate', 'Graduate', 'Advanced/Professional', 'Graduate',\n       'Graduate', 'Graduate', 'Graduate', 'Advanced/Professional',\n       'Undergrad', 'Graduate', 'Graduate', 'Advanced/Professional',\n       'Advanced/Professional', 'Advanced/Professional',\n       'Advanced/Professional', 'Graduate', 'Undergrad', 'Graduate',\n       'Graduate', 'Undergrad', 'Graduate', 'Graduate',\n       'Advanced/Professional', 'Graduate', 'Undergrad',\n       'Advanced/Professional', 'Advanced/Professional', 'Undergrad',\n       'Advanced/Professional', 'Advanced/Professional', 'Undergrad',\n       'Advanced/Professional', 'Graduate', 'Advanced/Professional',\n       'Advanced/Professional', 'Graduate', 'Advanced/Professional',\n       'Undergrad', 'Advanced/Professional', 'Graduate',\n       'Advanced/Professional', 'Undergrad', 'Graduate', 'Graduate',\n       'Graduate', 'Advanced/Professional', 'Advanced/Professional',\n       'Graduate', 'Advanced/Professional', 'Advanced/Professional',\n       'Graduate', 'Graduate', 'Graduate', 'Undergrad',\n       'Advanced/Professional', 'Advanced/Professional', 'Graduate',\n       'Advanced/Professional', 'Graduate', 'Undergrad',\n       'Advanced/Professional', 'Graduate', 'Advanced/Professional',\n       'Advanced/Professional', 'Undergrad', 'Advanced/Professional',\n       'Graduate', 'Undergrad', 'Graduate', 'Graduate', 'Graduate',\n       'Advanced/Professional', 'Graduate', 'Advanced/Professional',\n       'Graduate', 'Advanced/Professional', 'Graduate', 'Undergrad',\n       'Undergrad', 'Advanced/Professional', 'Advanced/Professional',\n       'Advanced/Professional', 'Advanced/Professional', 'Graduate',\n       'Graduate', 'Undergrad', 'Advanced/Professional', 'Graduate',\n       'Graduate', 'Advanced/Professional', 'Undergrad', 'Graduate',\n       'Graduate', 'Undergrad', 'Advanced/Professional', 'Graduate',\n       'Advanced/Professional', 'Advanced/Professional',\n       'Advanced/Professional', 'Advanced/Professional', 'Graduate',\n       'Graduate', 'Undergrad', 'Advanced/Professional', 'Graduate',\n       'Graduate', 'Advanced/Professional', 'Undergrad',\n       'Advanced/Professional', 'Graduate', 'Advanced/Professional',\n       'Undergrad', 'Advanced/Professional', 'Advanced/Professional',\n       'Advanced/Professional', 'Undergrad', 'Advanced/Professional',\n       'Advanced/Professional', 'Advanced/Professional', 'Undergrad',\n       'Undergrad', 'Graduate', 'Advanced/Professional', 'Undergrad',\n       'Advanced/Professional', 'Graduate', 'Graduate',\n       'Advanced/Professional', 'Graduate', 'Advanced/Professional',\n       'Advanced/Professional', 'Graduate', 'Advanced/Professional',\n       'Graduate', 'Graduate', 'Graduate', 'Graduate',\n       'Advanced/Professional', 'Graduate', 'Graduate',\n       'Advanced/Professional', 'Advanced/Professional', 'Graduate',\n       'Graduate', 'Advanced/Professional', 'Advanced/Professional',\n       'Advanced/Professional', 'Graduate', 'Advanced/Professional',\n       'Advanced/Professional', 'Graduate', 'Undergrad',\n       'Advanced/Professional', 'Advanced/Professional',\n       'Advanced/Professional', 'Graduate', 'Advanced/Professional',\n       'Advanced/Professional', 'Undergrad', 'Advanced/Professional',\n       'Undergrad', 'Undergrad', 'Advanced/Professional',\n       'Advanced/Professional', 'Advanced/Professional', 'Graduate',\n       'Advanced/Professional', 'Graduate', 'Undergrad',\n       'Advanced/Professional', 'Graduate', 'Advanced/Professional',\n       'Graduate', 'Undergrad', 'Advanced/Professional', 'Undergrad',\n       'Advanced/Professional', 'Graduate', 'Advanced/Professional',\n       'Graduate', 'Advanced/Professional', 'Graduate',\n       'Advanced/Professional', 'Advanced/Professional', 'Undergrad',\n       'Advanced/Professional', 'Advanced/Professional', 'Undergrad',\n       'Advanced/Professional', 'Graduate', 'Advanced/Professional',\n       'Graduate', 'Advanced/Professional', 'Undergrad', 'Undergrad',\n       'Advanced/Professional', 'Graduate', 'Undergrad', 'Undergrad',\n       'Advanced/Professional', 'Advanced/Professional',\n       'Advanced/Professional', 'Graduate', 'Advanced/Professional',\n       'Advanced/Professional', 'Graduate', 'Advanced/Professional',\n       'Advanced/Professional', 'Undergrad', 'Advanced/Professional',\n       'Graduate', 'Graduate', 'Graduate', 'Graduate', 'Graduate',\n       'Graduate', 'Graduate', 'Graduate', 'Undergrad', 'Graduate',\n       'Undergrad', 'Advanced/Professional', 'Undergrad',\n       'Advanced/Professional', 'Graduate', 'Advanced/Professional',\n       'Advanced/Professional', 'Advanced/Professional',\n       'Advanced/Professional', 'Graduate', 'Graduate',\n       'Advanced/Professional', 'Graduate', 'Advanced/Professional',\n       'Advanced/Professional', 'Graduate', 'Graduate',\n       'Advanced/Professional', 'Undergrad'], dtype=object)",
     "output_type": "error",
     "traceback": [
      "\u001b[0;31m---------------------------------------------------------------------------\u001b[0m",
      "\u001b[0;31mValueError\u001b[0m                                Traceback (most recent call last)",
      "File \u001b[0;32m/usr/local/Caskroom/miniconda/base/envs/Python38/lib/python3.8/site-packages/matplotlib/axis.py:1506\u001b[0m, in \u001b[0;36mAxis.convert_units\u001b[0;34m(self, x)\u001b[0m\n\u001b[1;32m   1505\u001b[0m \u001b[38;5;28;01mtry\u001b[39;00m:\n\u001b[0;32m-> 1506\u001b[0m     ret \u001b[38;5;241m=\u001b[39m \u001b[38;5;28;43mself\u001b[39;49m\u001b[38;5;241;43m.\u001b[39;49m\u001b[43mconverter\u001b[49m\u001b[38;5;241;43m.\u001b[39;49m\u001b[43mconvert\u001b[49m\u001b[43m(\u001b[49m\u001b[43mx\u001b[49m\u001b[43m,\u001b[49m\u001b[43m \u001b[49m\u001b[38;5;28;43mself\u001b[39;49m\u001b[38;5;241;43m.\u001b[39;49m\u001b[43munits\u001b[49m\u001b[43m,\u001b[49m\u001b[43m \u001b[49m\u001b[38;5;28;43mself\u001b[39;49m\u001b[43m)\u001b[49m\n\u001b[1;32m   1507\u001b[0m \u001b[38;5;28;01mexcept\u001b[39;00m \u001b[38;5;167;01mException\u001b[39;00m \u001b[38;5;28;01mas\u001b[39;00m e:\n",
      "File \u001b[0;32m/usr/local/Caskroom/miniconda/base/envs/Python38/lib/python3.8/site-packages/matplotlib/category.py:49\u001b[0m, in \u001b[0;36mStrCategoryConverter.convert\u001b[0;34m(value, unit, axis)\u001b[0m\n\u001b[1;32m     48\u001b[0m \u001b[38;5;28;01mif\u001b[39;00m unit \u001b[38;5;129;01mis\u001b[39;00m \u001b[38;5;28;01mNone\u001b[39;00m:\n\u001b[0;32m---> 49\u001b[0m     \u001b[38;5;28;01mraise\u001b[39;00m \u001b[38;5;167;01mValueError\u001b[39;00m(\n\u001b[1;32m     50\u001b[0m         \u001b[38;5;124m'\u001b[39m\u001b[38;5;124mMissing category information for StrCategoryConverter; \u001b[39m\u001b[38;5;124m'\u001b[39m\n\u001b[1;32m     51\u001b[0m         \u001b[38;5;124m'\u001b[39m\u001b[38;5;124mthis might be caused by unintendedly mixing categorical and \u001b[39m\u001b[38;5;124m'\u001b[39m\n\u001b[1;32m     52\u001b[0m         \u001b[38;5;124m'\u001b[39m\u001b[38;5;124mnumeric data\u001b[39m\u001b[38;5;124m'\u001b[39m)\n\u001b[1;32m     53\u001b[0m StrCategoryConverter\u001b[38;5;241m.\u001b[39m_validate_unit(unit)\n",
      "\u001b[0;31mValueError\u001b[0m: Missing category information for StrCategoryConverter; this might be caused by unintendedly mixing categorical and numeric data",
      "\nThe above exception was the direct cause of the following exception:\n",
      "\u001b[0;31mConversionError\u001b[0m                           Traceback (most recent call last)",
      "Input \u001b[0;32mIn [74]\u001b[0m, in \u001b[0;36m<cell line: 1>\u001b[0;34m()\u001b[0m\n\u001b[0;32m----> 1\u001b[0m \u001b[43mplt\u001b[49m\u001b[38;5;241;43m.\u001b[39;49m\u001b[43mhist\u001b[49m\u001b[43m(\u001b[49m\u001b[43mloan_yes\u001b[49m\u001b[43m)\u001b[49m\n\u001b[1;32m      2\u001b[0m plt\u001b[38;5;241m.\u001b[39mxlabel(loan_yes[\u001b[38;5;124m'\u001b[39m\u001b[38;5;124mPersonal Loan\u001b[39m\u001b[38;5;124m'\u001b[39m])\n\u001b[1;32m      3\u001b[0m plt\u001b[38;5;241m.\u001b[39mylabel(loan_yes[\u001b[38;5;124m'\u001b[39m\u001b[38;5;124mValue of Mortgage\u001b[39m\u001b[38;5;124m'\u001b[39m])\n",
      "File \u001b[0;32m/usr/local/Caskroom/miniconda/base/envs/Python38/lib/python3.8/site-packages/matplotlib/pyplot.py:2590\u001b[0m, in \u001b[0;36mhist\u001b[0;34m(x, bins, range, density, weights, cumulative, bottom, histtype, align, orientation, rwidth, log, color, label, stacked, data, **kwargs)\u001b[0m\n\u001b[1;32m   2584\u001b[0m \u001b[38;5;129m@_copy_docstring_and_deprecators\u001b[39m(Axes\u001b[38;5;241m.\u001b[39mhist)\n\u001b[1;32m   2585\u001b[0m \u001b[38;5;28;01mdef\u001b[39;00m \u001b[38;5;21mhist\u001b[39m(\n\u001b[1;32m   2586\u001b[0m         x, bins\u001b[38;5;241m=\u001b[39m\u001b[38;5;28;01mNone\u001b[39;00m, \u001b[38;5;28mrange\u001b[39m\u001b[38;5;241m=\u001b[39m\u001b[38;5;28;01mNone\u001b[39;00m, density\u001b[38;5;241m=\u001b[39m\u001b[38;5;28;01mFalse\u001b[39;00m, weights\u001b[38;5;241m=\u001b[39m\u001b[38;5;28;01mNone\u001b[39;00m,\n\u001b[1;32m   2587\u001b[0m         cumulative\u001b[38;5;241m=\u001b[39m\u001b[38;5;28;01mFalse\u001b[39;00m, bottom\u001b[38;5;241m=\u001b[39m\u001b[38;5;28;01mNone\u001b[39;00m, histtype\u001b[38;5;241m=\u001b[39m\u001b[38;5;124m'\u001b[39m\u001b[38;5;124mbar\u001b[39m\u001b[38;5;124m'\u001b[39m, align\u001b[38;5;241m=\u001b[39m\u001b[38;5;124m'\u001b[39m\u001b[38;5;124mmid\u001b[39m\u001b[38;5;124m'\u001b[39m,\n\u001b[1;32m   2588\u001b[0m         orientation\u001b[38;5;241m=\u001b[39m\u001b[38;5;124m'\u001b[39m\u001b[38;5;124mvertical\u001b[39m\u001b[38;5;124m'\u001b[39m, rwidth\u001b[38;5;241m=\u001b[39m\u001b[38;5;28;01mNone\u001b[39;00m, log\u001b[38;5;241m=\u001b[39m\u001b[38;5;28;01mFalse\u001b[39;00m, color\u001b[38;5;241m=\u001b[39m\u001b[38;5;28;01mNone\u001b[39;00m,\n\u001b[1;32m   2589\u001b[0m         label\u001b[38;5;241m=\u001b[39m\u001b[38;5;28;01mNone\u001b[39;00m, stacked\u001b[38;5;241m=\u001b[39m\u001b[38;5;28;01mFalse\u001b[39;00m, \u001b[38;5;241m*\u001b[39m, data\u001b[38;5;241m=\u001b[39m\u001b[38;5;28;01mNone\u001b[39;00m, \u001b[38;5;241m*\u001b[39m\u001b[38;5;241m*\u001b[39mkwargs):\n\u001b[0;32m-> 2590\u001b[0m     \u001b[38;5;28;01mreturn\u001b[39;00m \u001b[43mgca\u001b[49m\u001b[43m(\u001b[49m\u001b[43m)\u001b[49m\u001b[38;5;241;43m.\u001b[39;49m\u001b[43mhist\u001b[49m\u001b[43m(\u001b[49m\n\u001b[1;32m   2591\u001b[0m \u001b[43m        \u001b[49m\u001b[43mx\u001b[49m\u001b[43m,\u001b[49m\u001b[43m \u001b[49m\u001b[43mbins\u001b[49m\u001b[38;5;241;43m=\u001b[39;49m\u001b[43mbins\u001b[49m\u001b[43m,\u001b[49m\u001b[43m \u001b[49m\u001b[38;5;28;43mrange\u001b[39;49m\u001b[38;5;241;43m=\u001b[39;49m\u001b[38;5;28;43mrange\u001b[39;49m\u001b[43m,\u001b[49m\u001b[43m \u001b[49m\u001b[43mdensity\u001b[49m\u001b[38;5;241;43m=\u001b[39;49m\u001b[43mdensity\u001b[49m\u001b[43m,\u001b[49m\u001b[43m \u001b[49m\u001b[43mweights\u001b[49m\u001b[38;5;241;43m=\u001b[39;49m\u001b[43mweights\u001b[49m\u001b[43m,\u001b[49m\n\u001b[1;32m   2592\u001b[0m \u001b[43m        \u001b[49m\u001b[43mcumulative\u001b[49m\u001b[38;5;241;43m=\u001b[39;49m\u001b[43mcumulative\u001b[49m\u001b[43m,\u001b[49m\u001b[43m \u001b[49m\u001b[43mbottom\u001b[49m\u001b[38;5;241;43m=\u001b[39;49m\u001b[43mbottom\u001b[49m\u001b[43m,\u001b[49m\u001b[43m \u001b[49m\u001b[43mhisttype\u001b[49m\u001b[38;5;241;43m=\u001b[39;49m\u001b[43mhisttype\u001b[49m\u001b[43m,\u001b[49m\n\u001b[1;32m   2593\u001b[0m \u001b[43m        \u001b[49m\u001b[43malign\u001b[49m\u001b[38;5;241;43m=\u001b[39;49m\u001b[43malign\u001b[49m\u001b[43m,\u001b[49m\u001b[43m \u001b[49m\u001b[43morientation\u001b[49m\u001b[38;5;241;43m=\u001b[39;49m\u001b[43morientation\u001b[49m\u001b[43m,\u001b[49m\u001b[43m \u001b[49m\u001b[43mrwidth\u001b[49m\u001b[38;5;241;43m=\u001b[39;49m\u001b[43mrwidth\u001b[49m\u001b[43m,\u001b[49m\u001b[43m \u001b[49m\u001b[43mlog\u001b[49m\u001b[38;5;241;43m=\u001b[39;49m\u001b[43mlog\u001b[49m\u001b[43m,\u001b[49m\n\u001b[1;32m   2594\u001b[0m \u001b[43m        \u001b[49m\u001b[43mcolor\u001b[49m\u001b[38;5;241;43m=\u001b[39;49m\u001b[43mcolor\u001b[49m\u001b[43m,\u001b[49m\u001b[43m \u001b[49m\u001b[43mlabel\u001b[49m\u001b[38;5;241;43m=\u001b[39;49m\u001b[43mlabel\u001b[49m\u001b[43m,\u001b[49m\u001b[43m \u001b[49m\u001b[43mstacked\u001b[49m\u001b[38;5;241;43m=\u001b[39;49m\u001b[43mstacked\u001b[49m\u001b[43m,\u001b[49m\n\u001b[1;32m   2595\u001b[0m \u001b[43m        \u001b[49m\u001b[38;5;241;43m*\u001b[39;49m\u001b[38;5;241;43m*\u001b[39;49m\u001b[43m(\u001b[49m\u001b[43m{\u001b[49m\u001b[38;5;124;43m\"\u001b[39;49m\u001b[38;5;124;43mdata\u001b[39;49m\u001b[38;5;124;43m\"\u001b[39;49m\u001b[43m:\u001b[49m\u001b[43m \u001b[49m\u001b[43mdata\u001b[49m\u001b[43m}\u001b[49m\u001b[43m \u001b[49m\u001b[38;5;28;43;01mif\u001b[39;49;00m\u001b[43m \u001b[49m\u001b[43mdata\u001b[49m\u001b[43m \u001b[49m\u001b[38;5;129;43;01mis\u001b[39;49;00m\u001b[43m \u001b[49m\u001b[38;5;129;43;01mnot\u001b[39;49;00m\u001b[43m \u001b[49m\u001b[38;5;28;43;01mNone\u001b[39;49;00m\u001b[43m \u001b[49m\u001b[38;5;28;43;01melse\u001b[39;49;00m\u001b[43m \u001b[49m\u001b[43m{\u001b[49m\u001b[43m}\u001b[49m\u001b[43m)\u001b[49m\u001b[43m,\u001b[49m\u001b[43m \u001b[49m\u001b[38;5;241;43m*\u001b[39;49m\u001b[38;5;241;43m*\u001b[39;49m\u001b[43mkwargs\u001b[49m\u001b[43m)\u001b[49m\n",
      "File \u001b[0;32m/usr/local/Caskroom/miniconda/base/envs/Python38/lib/python3.8/site-packages/matplotlib/__init__.py:1412\u001b[0m, in \u001b[0;36m_preprocess_data.<locals>.inner\u001b[0;34m(ax, data, *args, **kwargs)\u001b[0m\n\u001b[1;32m   1409\u001b[0m \u001b[38;5;129m@functools\u001b[39m\u001b[38;5;241m.\u001b[39mwraps(func)\n\u001b[1;32m   1410\u001b[0m \u001b[38;5;28;01mdef\u001b[39;00m \u001b[38;5;21minner\u001b[39m(ax, \u001b[38;5;241m*\u001b[39margs, data\u001b[38;5;241m=\u001b[39m\u001b[38;5;28;01mNone\u001b[39;00m, \u001b[38;5;241m*\u001b[39m\u001b[38;5;241m*\u001b[39mkwargs):\n\u001b[1;32m   1411\u001b[0m     \u001b[38;5;28;01mif\u001b[39;00m data \u001b[38;5;129;01mis\u001b[39;00m \u001b[38;5;28;01mNone\u001b[39;00m:\n\u001b[0;32m-> 1412\u001b[0m         \u001b[38;5;28;01mreturn\u001b[39;00m \u001b[43mfunc\u001b[49m\u001b[43m(\u001b[49m\u001b[43max\u001b[49m\u001b[43m,\u001b[49m\u001b[43m \u001b[49m\u001b[38;5;241;43m*\u001b[39;49m\u001b[38;5;28;43mmap\u001b[39;49m\u001b[43m(\u001b[49m\u001b[43msanitize_sequence\u001b[49m\u001b[43m,\u001b[49m\u001b[43m \u001b[49m\u001b[43margs\u001b[49m\u001b[43m)\u001b[49m\u001b[43m,\u001b[49m\u001b[43m \u001b[49m\u001b[38;5;241;43m*\u001b[39;49m\u001b[38;5;241;43m*\u001b[39;49m\u001b[43mkwargs\u001b[49m\u001b[43m)\u001b[49m\n\u001b[1;32m   1414\u001b[0m     bound \u001b[38;5;241m=\u001b[39m new_sig\u001b[38;5;241m.\u001b[39mbind(ax, \u001b[38;5;241m*\u001b[39margs, \u001b[38;5;241m*\u001b[39m\u001b[38;5;241m*\u001b[39mkwargs)\n\u001b[1;32m   1415\u001b[0m     auto_label \u001b[38;5;241m=\u001b[39m (bound\u001b[38;5;241m.\u001b[39marguments\u001b[38;5;241m.\u001b[39mget(label_namer)\n\u001b[1;32m   1416\u001b[0m                   \u001b[38;5;129;01mor\u001b[39;00m bound\u001b[38;5;241m.\u001b[39mkwargs\u001b[38;5;241m.\u001b[39mget(label_namer))\n",
      "File \u001b[0;32m/usr/local/Caskroom/miniconda/base/envs/Python38/lib/python3.8/site-packages/matplotlib/axes/_axes.py:6560\u001b[0m, in \u001b[0;36mAxes.hist\u001b[0;34m(self, x, bins, range, density, weights, cumulative, bottom, histtype, align, orientation, rwidth, log, color, label, stacked, **kwargs)\u001b[0m\n\u001b[1;32m   6558\u001b[0m \u001b[38;5;28;01mif\u001b[39;00m orientation \u001b[38;5;241m==\u001b[39m \u001b[38;5;124m\"\u001b[39m\u001b[38;5;124mvertical\u001b[39m\u001b[38;5;124m\"\u001b[39m:\n\u001b[1;32m   6559\u001b[0m     convert_units \u001b[38;5;241m=\u001b[39m \u001b[38;5;28mself\u001b[39m\u001b[38;5;241m.\u001b[39mconvert_xunits\n\u001b[0;32m-> 6560\u001b[0m     x \u001b[38;5;241m=\u001b[39m [\u001b[38;5;241m*\u001b[39m\u001b[38;5;28mself\u001b[39m\u001b[38;5;241m.\u001b[39m_process_unit_info([(\u001b[38;5;124m\"\u001b[39m\u001b[38;5;124mx\u001b[39m\u001b[38;5;124m\"\u001b[39m, x[\u001b[38;5;241m0\u001b[39m])], kwargs),\n\u001b[1;32m   6561\u001b[0m          \u001b[38;5;241m*\u001b[39m\u001b[38;5;28mmap\u001b[39m(convert_units, x[\u001b[38;5;241m1\u001b[39m:])]\n\u001b[1;32m   6562\u001b[0m \u001b[38;5;28;01melse\u001b[39;00m:  \u001b[38;5;66;03m# horizontal\u001b[39;00m\n\u001b[1;32m   6563\u001b[0m     convert_units \u001b[38;5;241m=\u001b[39m \u001b[38;5;28mself\u001b[39m\u001b[38;5;241m.\u001b[39mconvert_yunits\n",
      "File \u001b[0;32m/usr/local/Caskroom/miniconda/base/envs/Python38/lib/python3.8/site-packages/matplotlib/artist.py:252\u001b[0m, in \u001b[0;36mArtist.convert_xunits\u001b[0;34m(self, x)\u001b[0m\n\u001b[1;32m    250\u001b[0m \u001b[38;5;28;01mif\u001b[39;00m ax \u001b[38;5;129;01mis\u001b[39;00m \u001b[38;5;28;01mNone\u001b[39;00m \u001b[38;5;129;01mor\u001b[39;00m ax\u001b[38;5;241m.\u001b[39mxaxis \u001b[38;5;129;01mis\u001b[39;00m \u001b[38;5;28;01mNone\u001b[39;00m:\n\u001b[1;32m    251\u001b[0m     \u001b[38;5;28;01mreturn\u001b[39;00m x\n\u001b[0;32m--> 252\u001b[0m \u001b[38;5;28;01mreturn\u001b[39;00m \u001b[43max\u001b[49m\u001b[38;5;241;43m.\u001b[39;49m\u001b[43mxaxis\u001b[49m\u001b[38;5;241;43m.\u001b[39;49m\u001b[43mconvert_units\u001b[49m\u001b[43m(\u001b[49m\u001b[43mx\u001b[49m\u001b[43m)\u001b[49m\n",
      "File \u001b[0;32m/usr/local/Caskroom/miniconda/base/envs/Python38/lib/python3.8/site-packages/matplotlib/axis.py:1508\u001b[0m, in \u001b[0;36mAxis.convert_units\u001b[0;34m(self, x)\u001b[0m\n\u001b[1;32m   1506\u001b[0m     ret \u001b[38;5;241m=\u001b[39m \u001b[38;5;28mself\u001b[39m\u001b[38;5;241m.\u001b[39mconverter\u001b[38;5;241m.\u001b[39mconvert(x, \u001b[38;5;28mself\u001b[39m\u001b[38;5;241m.\u001b[39munits, \u001b[38;5;28mself\u001b[39m)\n\u001b[1;32m   1507\u001b[0m \u001b[38;5;28;01mexcept\u001b[39;00m \u001b[38;5;167;01mException\u001b[39;00m \u001b[38;5;28;01mas\u001b[39;00m e:\n\u001b[0;32m-> 1508\u001b[0m     \u001b[38;5;28;01mraise\u001b[39;00m munits\u001b[38;5;241m.\u001b[39mConversionError(\u001b[38;5;124m'\u001b[39m\u001b[38;5;124mFailed to convert value(s) to axis \u001b[39m\u001b[38;5;124m'\u001b[39m\n\u001b[1;32m   1509\u001b[0m                                  \u001b[38;5;124mf\u001b[39m\u001b[38;5;124m'\u001b[39m\u001b[38;5;124munits: \u001b[39m\u001b[38;5;132;01m{\u001b[39;00mx\u001b[38;5;132;01m!r}\u001b[39;00m\u001b[38;5;124m'\u001b[39m) \u001b[38;5;28;01mfrom\u001b[39;00m \u001b[38;5;21;01me\u001b[39;00m\n\u001b[1;32m   1510\u001b[0m \u001b[38;5;28;01mreturn\u001b[39;00m ret\n",
      "\u001b[0;31mConversionError\u001b[0m: Failed to convert value(s) to axis units: array(['Advanced/Professional', 'Advanced/Professional',\n       'Advanced/Professional', 'Graduate', 'Advanced/Professional',\n       'Graduate', 'Advanced/Professional', 'Advanced/Professional',\n       'Advanced/Professional', 'Graduate', 'Advanced/Professional',\n       'Graduate', 'Graduate', 'Advanced/Professional',\n       'Advanced/Professional', 'Graduate', 'Undergrad',\n       'Advanced/Professional', 'Advanced/Professional', 'Undergrad',\n       'Advanced/Professional', 'Graduate', 'Graduate',\n       'Advanced/Professional', 'Advanced/Professional',\n       'Advanced/Professional', 'Advanced/Professional', 'Undergrad',\n       'Graduate', 'Graduate', 'Graduate', 'Undergrad', 'Undergrad',\n       'Undergrad', 'Undergrad', 'Undergrad', 'Graduate', 'Graduate',\n       'Undergrad', 'Advanced/Professional', 'Undergrad', 'Graduate',\n       'Graduate', 'Advanced/Professional', 'Advanced/Professional',\n       'Graduate', 'Advanced/Professional', 'Graduate', 'Graduate',\n       'Graduate', 'Graduate', 'Undergrad', 'Advanced/Professional',\n       'Advanced/Professional', 'Graduate', 'Advanced/Professional',\n       'Advanced/Professional', 'Graduate', 'Advanced/Professional',\n       'Advanced/Professional', 'Advanced/Professional', 'Graduate',\n       'Graduate', 'Advanced/Professional', 'Undergrad', 'Graduate',\n       'Graduate', 'Advanced/Professional', 'Graduate', 'Undergrad',\n       'Graduate', 'Advanced/Professional', 'Advanced/Professional',\n       'Advanced/Professional', 'Advanced/Professional',\n       'Advanced/Professional', 'Advanced/Professional', 'Graduate',\n       'Graduate', 'Undergrad', 'Graduate', 'Advanced/Professional',\n       'Undergrad', 'Undergrad', 'Graduate', 'Undergrad', 'Graduate',\n       'Advanced/Professional', 'Undergrad', 'Advanced/Professional',\n       'Advanced/Professional', 'Graduate', 'Advanced/Professional',\n       'Undergrad', 'Graduate', 'Graduate', 'Advanced/Professional',\n       'Advanced/Professional', 'Graduate', 'Graduate',\n       'Advanced/Professional', 'Graduate', 'Advanced/Professional',\n       'Advanced/Professional', 'Undergrad', 'Graduate',\n       'Advanced/Professional', 'Undergrad', 'Advanced/Professional',\n       'Advanced/Professional', 'Undergrad', 'Graduate', 'Undergrad',\n       'Graduate', 'Undergrad', 'Advanced/Professional',\n       'Advanced/Professional', 'Advanced/Professional', 'Undergrad',\n       'Graduate', 'Graduate', 'Undergrad', 'Graduate', 'Graduate',\n       'Graduate', 'Advanced/Professional', 'Graduate',\n       'Advanced/Professional', 'Graduate', 'Advanced/Professional',\n       'Graduate', 'Graduate', 'Graduate', 'Undergrad', 'Graduate',\n       'Graduate', 'Graduate', 'Undergrad', 'Advanced/Professional',\n       'Advanced/Professional', 'Advanced/Professional', 'Graduate',\n       'Graduate', 'Advanced/Professional', 'Advanced/Professional',\n       'Advanced/Professional', 'Graduate', 'Graduate', 'Undergrad',\n       'Graduate', 'Advanced/Professional', 'Graduate', 'Graduate',\n       'Advanced/Professional', 'Advanced/Professional', 'Graduate',\n       'Undergrad', 'Undergrad', 'Undergrad', 'Undergrad', 'Graduate',\n       'Graduate', 'Advanced/Professional', 'Advanced/Professional',\n       'Advanced/Professional', 'Graduate', 'Advanced/Professional',\n       'Graduate', 'Graduate', 'Advanced/Professional',\n       'Advanced/Professional', 'Advanced/Professional',\n       'Advanced/Professional', 'Advanced/Professional', 'Graduate',\n       'Undergrad', 'Graduate', 'Undergrad', 'Undergrad',\n       'Advanced/Professional', 'Undergrad', 'Undergrad', 'Undergrad',\n       'Advanced/Professional', 'Advanced/Professional', 'Undergrad',\n       'Graduate', 'Graduate', 'Advanced/Professional',\n       'Advanced/Professional', 'Undergrad', 'Advanced/Professional',\n       'Undergrad', 'Undergrad', 'Graduate', 'Undergrad',\n       'Advanced/Professional', 'Advanced/Professional',\n       'Advanced/Professional', 'Advanced/Professional', 'Graduate',\n       'Undergrad', 'Graduate', 'Advanced/Professional',\n       'Advanced/Professional', 'Undergrad', 'Graduate', 'Graduate',\n       'Graduate', 'Graduate', 'Advanced/Professional', 'Graduate',\n       'Advanced/Professional', 'Advanced/Professional',\n       'Advanced/Professional', 'Advanced/Professional', 'Graduate',\n       'Undergrad', 'Advanced/Professional', 'Graduate',\n       'Advanced/Professional', 'Graduate', 'Graduate',\n       'Advanced/Professional', 'Graduate', 'Graduate',\n       'Advanced/Professional', 'Graduate', 'Graduate', 'Graduate',\n       'Advanced/Professional', 'Graduate', 'Undergrad',\n       'Advanced/Professional', 'Graduate', 'Undergrad', 'Graduate',\n       'Advanced/Professional', 'Undergrad', 'Graduate', 'Undergrad',\n       'Graduate', 'Graduate', 'Advanced/Professional', 'Graduate',\n       'Graduate', 'Graduate', 'Graduate', 'Advanced/Professional',\n       'Undergrad', 'Graduate', 'Graduate', 'Advanced/Professional',\n       'Advanced/Professional', 'Advanced/Professional',\n       'Advanced/Professional', 'Graduate', 'Undergrad', 'Graduate',\n       'Graduate', 'Undergrad', 'Graduate', 'Graduate',\n       'Advanced/Professional', 'Graduate', 'Undergrad',\n       'Advanced/Professional', 'Advanced/Professional', 'Undergrad',\n       'Advanced/Professional', 'Advanced/Professional', 'Undergrad',\n       'Advanced/Professional', 'Graduate', 'Advanced/Professional',\n       'Advanced/Professional', 'Graduate', 'Advanced/Professional',\n       'Undergrad', 'Advanced/Professional', 'Graduate',\n       'Advanced/Professional', 'Undergrad', 'Graduate', 'Graduate',\n       'Graduate', 'Advanced/Professional', 'Advanced/Professional',\n       'Graduate', 'Advanced/Professional', 'Advanced/Professional',\n       'Graduate', 'Graduate', 'Graduate', 'Undergrad',\n       'Advanced/Professional', 'Advanced/Professional', 'Graduate',\n       'Advanced/Professional', 'Graduate', 'Undergrad',\n       'Advanced/Professional', 'Graduate', 'Advanced/Professional',\n       'Advanced/Professional', 'Undergrad', 'Advanced/Professional',\n       'Graduate', 'Undergrad', 'Graduate', 'Graduate', 'Graduate',\n       'Advanced/Professional', 'Graduate', 'Advanced/Professional',\n       'Graduate', 'Advanced/Professional', 'Graduate', 'Undergrad',\n       'Undergrad', 'Advanced/Professional', 'Advanced/Professional',\n       'Advanced/Professional', 'Advanced/Professional', 'Graduate',\n       'Graduate', 'Undergrad', 'Advanced/Professional', 'Graduate',\n       'Graduate', 'Advanced/Professional', 'Undergrad', 'Graduate',\n       'Graduate', 'Undergrad', 'Advanced/Professional', 'Graduate',\n       'Advanced/Professional', 'Advanced/Professional',\n       'Advanced/Professional', 'Advanced/Professional', 'Graduate',\n       'Graduate', 'Undergrad', 'Advanced/Professional', 'Graduate',\n       'Graduate', 'Advanced/Professional', 'Undergrad',\n       'Advanced/Professional', 'Graduate', 'Advanced/Professional',\n       'Undergrad', 'Advanced/Professional', 'Advanced/Professional',\n       'Advanced/Professional', 'Undergrad', 'Advanced/Professional',\n       'Advanced/Professional', 'Advanced/Professional', 'Undergrad',\n       'Undergrad', 'Graduate', 'Advanced/Professional', 'Undergrad',\n       'Advanced/Professional', 'Graduate', 'Graduate',\n       'Advanced/Professional', 'Graduate', 'Advanced/Professional',\n       'Advanced/Professional', 'Graduate', 'Advanced/Professional',\n       'Graduate', 'Graduate', 'Graduate', 'Graduate',\n       'Advanced/Professional', 'Graduate', 'Graduate',\n       'Advanced/Professional', 'Advanced/Professional', 'Graduate',\n       'Graduate', 'Advanced/Professional', 'Advanced/Professional',\n       'Advanced/Professional', 'Graduate', 'Advanced/Professional',\n       'Advanced/Professional', 'Graduate', 'Undergrad',\n       'Advanced/Professional', 'Advanced/Professional',\n       'Advanced/Professional', 'Graduate', 'Advanced/Professional',\n       'Advanced/Professional', 'Undergrad', 'Advanced/Professional',\n       'Undergrad', 'Undergrad', 'Advanced/Professional',\n       'Advanced/Professional', 'Advanced/Professional', 'Graduate',\n       'Advanced/Professional', 'Graduate', 'Undergrad',\n       'Advanced/Professional', 'Graduate', 'Advanced/Professional',\n       'Graduate', 'Undergrad', 'Advanced/Professional', 'Undergrad',\n       'Advanced/Professional', 'Graduate', 'Advanced/Professional',\n       'Graduate', 'Advanced/Professional', 'Graduate',\n       'Advanced/Professional', 'Advanced/Professional', 'Undergrad',\n       'Advanced/Professional', 'Advanced/Professional', 'Undergrad',\n       'Advanced/Professional', 'Graduate', 'Advanced/Professional',\n       'Graduate', 'Advanced/Professional', 'Undergrad', 'Undergrad',\n       'Advanced/Professional', 'Graduate', 'Undergrad', 'Undergrad',\n       'Advanced/Professional', 'Advanced/Professional',\n       'Advanced/Professional', 'Graduate', 'Advanced/Professional',\n       'Advanced/Professional', 'Graduate', 'Advanced/Professional',\n       'Advanced/Professional', 'Undergrad', 'Advanced/Professional',\n       'Graduate', 'Graduate', 'Graduate', 'Graduate', 'Graduate',\n       'Graduate', 'Graduate', 'Graduate', 'Undergrad', 'Graduate',\n       'Undergrad', 'Advanced/Professional', 'Undergrad',\n       'Advanced/Professional', 'Graduate', 'Advanced/Professional',\n       'Advanced/Professional', 'Advanced/Professional',\n       'Advanced/Professional', 'Graduate', 'Graduate',\n       'Advanced/Professional', 'Graduate', 'Advanced/Professional',\n       'Advanced/Professional', 'Graduate', 'Graduate',\n       'Advanced/Professional', 'Undergrad'], dtype=object)"
     ]
    },
    {
     "data": {
      "image/png": "[encoded data removed]",
      "text/plain": [
       "<Figure size 432x288 with 1 Axes>"
      ]
     },
     "metadata": {
      "needs_background": "light"
     },
     "output_type": "display_data"
    }
   ],
   "source": [
    "plt.hist(loan_yes)\n",
    "plt.xlabel(loan_yes['Personal Loan'])\n",
    "plt.ylabel(loan_yes['Value of Mortgage'])\n",
    "plt.show()\n",
    "print(st.normaltest(temperatures.sample(50)))"
   ]
  },
  {
   "cell_type": "code",
   "execution_count": 66,
   "id": "49758ac3",
   "metadata": {},
   "outputs": [
    {
     "data": {
      "text/html": [
       "<div>\n",
       "<style scoped>\n",
       "    .dataframe tbody tr th:only-of-type {\n",
       "        vertical-align: middle;\n",
       "    }\n",
       "\n",
       "    .dataframe tbody tr th {\n",
       "        vertical-align: top;\n",
       "    }\n",
       "\n",
       "    .dataframe thead th {\n",
       "        text-align: right;\n",
       "    }\n",
       "</style>\n",
       "<table border=\"1\" class=\"dataframe\">\n",
       "  <thead>\n",
       "    <tr style=\"text-align: right;\">\n",
       "      <th></th>\n",
       "      <th>Age</th>\n",
       "      <th>Years Work Experience</th>\n",
       "      <th>Income</th>\n",
       "      <th>ZIP Code</th>\n",
       "      <th>Family Size</th>\n",
       "      <th>Monthly Credit Card Spending</th>\n",
       "      <th>Education Level</th>\n",
       "      <th>Value of Mortgage</th>\n",
       "      <th>Personal Loan</th>\n",
       "    </tr>\n",
       "  </thead>\n",
       "  <tbody>\n",
       "    <tr>\n",
       "      <th>0</th>\n",
       "      <td>25</td>\n",
       "      <td>1</td>\n",
       "      <td>49000</td>\n",
       "      <td>91107</td>\n",
       "      <td>4</td>\n",
       "      <td>1600</td>\n",
       "      <td>Undergrad</td>\n",
       "      <td>0</td>\n",
       "      <td>No</td>\n",
       "    </tr>\n",
       "    <tr>\n",
       "      <th>1</th>\n",
       "      <td>45</td>\n",
       "      <td>19</td>\n",
       "      <td>34000</td>\n",
       "      <td>90089</td>\n",
       "      <td>3</td>\n",
       "      <td>1500</td>\n",
       "      <td>Undergrad</td>\n",
       "      <td>0</td>\n",
       "      <td>No</td>\n",
       "    </tr>\n",
       "    <tr>\n",
       "      <th>2</th>\n",
       "      <td>39</td>\n",
       "      <td>15</td>\n",
       "      <td>11000</td>\n",
       "      <td>94720</td>\n",
       "      <td>1</td>\n",
       "      <td>1000</td>\n",
       "      <td>Undergrad</td>\n",
       "      <td>0</td>\n",
       "      <td>No</td>\n",
       "    </tr>\n",
       "    <tr>\n",
       "      <th>3</th>\n",
       "      <td>35</td>\n",
       "      <td>9</td>\n",
       "      <td>100000</td>\n",
       "      <td>94112</td>\n",
       "      <td>1</td>\n",
       "      <td>2700</td>\n",
       "      <td>Graduate</td>\n",
       "      <td>0</td>\n",
       "      <td>No</td>\n",
       "    </tr>\n",
       "    <tr>\n",
       "      <th>4</th>\n",
       "      <td>35</td>\n",
       "      <td>8</td>\n",
       "      <td>45000</td>\n",
       "      <td>91330</td>\n",
       "      <td>4</td>\n",
       "      <td>1000</td>\n",
       "      <td>Graduate</td>\n",
       "      <td>0</td>\n",
       "      <td>No</td>\n",
       "    </tr>\n",
       "  </tbody>\n",
       "</table>\n",
       "</div>"
      ],
      "text/plain": [
       "   Age  Years Work Experience  Income  ZIP Code  Family Size  \\\n",
       "0   25                      1   49000     91107            4   \n",
       "1   45                     19   34000     90089            3   \n",
       "2   39                     15   11000     94720            1   \n",
       "3   35                      9  100000     94112            1   \n",
       "4   35                      8   45000     91330            4   \n",
       "\n",
       "   Monthly Credit Card Spending Education Level  Value of Mortgage  \\\n",
       "0                          1600       Undergrad                  0   \n",
       "1                          1500       Undergrad                  0   \n",
       "2                          1000       Undergrad                  0   \n",
       "3                          2700        Graduate                  0   \n",
       "4                          1000        Graduate                  0   \n",
       "\n",
       "  Personal Loan  \n",
       "0            No  \n",
       "1            No  \n",
       "2            No  \n",
       "3            No  \n",
       "4            No  "
      ]
     },
     "execution_count": 66,
     "metadata": {},
     "output_type": "execute_result"
    }
   ],
   "source": [
    "loan_no.head()"
   ]
  },
  {
   "cell_type": "code",
   "execution_count": 57,
   "id": "087105e2",
   "metadata": {},
   "outputs": [],
   "source": [
    "# Create bins in which to place values based upon IMDB vote count\n",
    "bins = [0, 100000, 200000, 300000, 400000, 500000, 600000]\n",
    "\n",
    "# Create labels for these bins\n",
    "group_labels = [\"0 to 100k\", \"100k to 200k\", \"200k to 300k\", \"300k to 400k\", \"400k to 500k\", \"600k to 700k\"]"
   ]
  },
  {
   "cell_type": "code",
   "execution_count": 61,
   "id": "8b1fec83",
   "metadata": {},
   "outputs": [
    {
     "ename": "TypeError",
     "evalue": "'<' not supported between instances of 'float' and 'str'",
     "output_type": "error",
     "traceback": [
      "\u001b[0;31m---------------------------------------------------------------------------\u001b[0m",
      "\u001b[0;31mTypeError\u001b[0m                                 Traceback (most recent call last)",
      "Input \u001b[0;32mIn [61]\u001b[0m, in \u001b[0;36m<cell line: 1>\u001b[0;34m()\u001b[0m\n\u001b[0;32m----> 1\u001b[0m df[\u001b[38;5;124m'\u001b[39m\u001b[38;5;124mValue of Mortgage\u001b[39m\u001b[38;5;124m'\u001b[39m] \u001b[38;5;241m=\u001b[39m \u001b[43mpd\u001b[49m\u001b[38;5;241;43m.\u001b[39;49m\u001b[43mcut\u001b[49m\u001b[43m(\u001b[49m\u001b[43mdf\u001b[49m\u001b[43m[\u001b[49m\u001b[38;5;124;43m'\u001b[39;49m\u001b[38;5;124;43mValue of Mortgage\u001b[39;49m\u001b[38;5;124;43m'\u001b[39;49m\u001b[43m]\u001b[49m\u001b[43m,\u001b[49m\u001b[43m \u001b[49m\u001b[43mbins\u001b[49m\u001b[38;5;241;43m=\u001b[39;49m\u001b[43mbins\u001b[49m\u001b[43m,\u001b[49m\u001b[43m \u001b[49m\u001b[43mlabels\u001b[49m\u001b[38;5;241;43m=\u001b[39;49m\u001b[43mgroup_labels\u001b[49m\u001b[43m)\u001b[49m\n",
      "File \u001b[0;32m/usr/local/Caskroom/miniconda/base/envs/Python38/lib/python3.8/site-packages/pandas/core/reshape/tile.py:292\u001b[0m, in \u001b[0;36mcut\u001b[0;34m(x, bins, right, labels, retbins, precision, include_lowest, duplicates, ordered)\u001b[0m\n\u001b[1;32m    289\u001b[0m     \u001b[38;5;28;01mif\u001b[39;00m (np\u001b[38;5;241m.\u001b[39mdiff(bins\u001b[38;5;241m.\u001b[39mastype(\u001b[38;5;124m\"\u001b[39m\u001b[38;5;124mfloat64\u001b[39m\u001b[38;5;124m\"\u001b[39m)) \u001b[38;5;241m<\u001b[39m \u001b[38;5;241m0\u001b[39m)\u001b[38;5;241m.\u001b[39many():\n\u001b[1;32m    290\u001b[0m         \u001b[38;5;28;01mraise\u001b[39;00m \u001b[38;5;167;01mValueError\u001b[39;00m(\u001b[38;5;124m\"\u001b[39m\u001b[38;5;124mbins must increase monotonically.\u001b[39m\u001b[38;5;124m\"\u001b[39m)\n\u001b[0;32m--> 292\u001b[0m fac, bins \u001b[38;5;241m=\u001b[39m \u001b[43m_bins_to_cuts\u001b[49m\u001b[43m(\u001b[49m\n\u001b[1;32m    293\u001b[0m \u001b[43m    \u001b[49m\u001b[43mx\u001b[49m\u001b[43m,\u001b[49m\n\u001b[1;32m    294\u001b[0m \u001b[43m    \u001b[49m\u001b[43mbins\u001b[49m\u001b[43m,\u001b[49m\n\u001b[1;32m    295\u001b[0m \u001b[43m    \u001b[49m\u001b[43mright\u001b[49m\u001b[38;5;241;43m=\u001b[39;49m\u001b[43mright\u001b[49m\u001b[43m,\u001b[49m\n\u001b[1;32m    296\u001b[0m \u001b[43m    \u001b[49m\u001b[43mlabels\u001b[49m\u001b[38;5;241;43m=\u001b[39;49m\u001b[43mlabels\u001b[49m\u001b[43m,\u001b[49m\n\u001b[1;32m    297\u001b[0m \u001b[43m    \u001b[49m\u001b[43mprecision\u001b[49m\u001b[38;5;241;43m=\u001b[39;49m\u001b[43mprecision\u001b[49m\u001b[43m,\u001b[49m\n\u001b[1;32m    298\u001b[0m \u001b[43m    \u001b[49m\u001b[43minclude_lowest\u001b[49m\u001b[38;5;241;43m=\u001b[39;49m\u001b[43minclude_lowest\u001b[49m\u001b[43m,\u001b[49m\n\u001b[1;32m    299\u001b[0m \u001b[43m    \u001b[49m\u001b[43mdtype\u001b[49m\u001b[38;5;241;43m=\u001b[39;49m\u001b[43mdtype\u001b[49m\u001b[43m,\u001b[49m\n\u001b[1;32m    300\u001b[0m \u001b[43m    \u001b[49m\u001b[43mduplicates\u001b[49m\u001b[38;5;241;43m=\u001b[39;49m\u001b[43mduplicates\u001b[49m\u001b[43m,\u001b[49m\n\u001b[1;32m    301\u001b[0m \u001b[43m    \u001b[49m\u001b[43mordered\u001b[49m\u001b[38;5;241;43m=\u001b[39;49m\u001b[43mordered\u001b[49m\u001b[43m,\u001b[49m\n\u001b[1;32m    302\u001b[0m \u001b[43m\u001b[49m\u001b[43m)\u001b[49m\n\u001b[1;32m    304\u001b[0m \u001b[38;5;28;01mreturn\u001b[39;00m _postprocess_for_cut(fac, bins, retbins, dtype, original)\n",
      "File \u001b[0;32m/usr/local/Caskroom/miniconda/base/envs/Python38/lib/python3.8/site-packages/pandas/core/reshape/tile.py:427\u001b[0m, in \u001b[0;36m_bins_to_cuts\u001b[0;34m(x, bins, right, labels, precision, include_lowest, dtype, duplicates, ordered)\u001b[0m\n\u001b[1;32m    424\u001b[0m         bins \u001b[38;5;241m=\u001b[39m unique_bins\n\u001b[1;32m    426\u001b[0m side: Literal[\u001b[38;5;124m\"\u001b[39m\u001b[38;5;124mleft\u001b[39m\u001b[38;5;124m\"\u001b[39m, \u001b[38;5;124m\"\u001b[39m\u001b[38;5;124mright\u001b[39m\u001b[38;5;124m\"\u001b[39m] \u001b[38;5;241m=\u001b[39m \u001b[38;5;124m\"\u001b[39m\u001b[38;5;124mleft\u001b[39m\u001b[38;5;124m\"\u001b[39m \u001b[38;5;28;01mif\u001b[39;00m right \u001b[38;5;28;01melse\u001b[39;00m \u001b[38;5;124m\"\u001b[39m\u001b[38;5;124mright\u001b[39m\u001b[38;5;124m\"\u001b[39m\n\u001b[0;32m--> 427\u001b[0m ids \u001b[38;5;241m=\u001b[39m ensure_platform_int(\u001b[43mbins\u001b[49m\u001b[38;5;241;43m.\u001b[39;49m\u001b[43msearchsorted\u001b[49m\u001b[43m(\u001b[49m\u001b[43mx\u001b[49m\u001b[43m,\u001b[49m\u001b[43m \u001b[49m\u001b[43mside\u001b[49m\u001b[38;5;241;43m=\u001b[39;49m\u001b[43mside\u001b[49m\u001b[43m)\u001b[49m)\n\u001b[1;32m    429\u001b[0m \u001b[38;5;28;01mif\u001b[39;00m include_lowest:\n\u001b[1;32m    430\u001b[0m     ids[np\u001b[38;5;241m.\u001b[39masarray(x) \u001b[38;5;241m==\u001b[39m bins[\u001b[38;5;241m0\u001b[39m]] \u001b[38;5;241m=\u001b[39m \u001b[38;5;241m1\u001b[39m\n",
      "\u001b[0;31mTypeError\u001b[0m: '<' not supported between instances of 'float' and 'str'"
     ]
    }
   ],
   "source": [
    "df['Value of Mortgage'] = pd.cut(df['Value of Mortgage'], bins=bins, labels=group_labels)"
   ]
  },
  {
   "cell_type": "code",
   "execution_count": 68,
   "id": "5ba72735",
   "metadata": {},
   "outputs": [
    {
     "ename": "ValueError",
     "evalue": "s must be a scalar, or float array-like with the same size as x and y",
     "output_type": "error",
     "traceback": [
      "\u001b[0;31m---------------------------------------------------------------------------\u001b[0m",
      "\u001b[0;31mValueError\u001b[0m                                Traceback (most recent call last)",
      "Input \u001b[0;32mIn [68]\u001b[0m, in \u001b[0;36m<cell line: 3>\u001b[0;34m()\u001b[0m\n\u001b[1;32m      1\u001b[0m x_axis \u001b[38;5;241m=\u001b[39m df[\u001b[38;5;124m'\u001b[39m\u001b[38;5;124mValue of Mortgage\u001b[39m\u001b[38;5;124m'\u001b[39m]\n\u001b[1;32m      2\u001b[0m y_axis \u001b[38;5;241m=\u001b[39m df[\u001b[38;5;124m'\u001b[39m\u001b[38;5;124mPersonal Loan\u001b[39m\u001b[38;5;124m'\u001b[39m]\n\u001b[0;32m----> 3\u001b[0m \u001b[43mplt\u001b[49m\u001b[38;5;241;43m.\u001b[39;49m\u001b[43mscatter\u001b[49m\u001b[43m(\u001b[49m\u001b[43mx_axis\u001b[49m\u001b[43m,\u001b[49m\u001b[43m \u001b[49m\u001b[43my_axis\u001b[49m\u001b[43m,\u001b[49m\u001b[43m \u001b[49m\u001b[43mmarker\u001b[49m\u001b[38;5;241;43m=\u001b[39;49m\u001b[38;5;124;43m\"\u001b[39;49m\u001b[38;5;124;43mo\u001b[39;49m\u001b[38;5;124;43m\"\u001b[39;49m\u001b[43m,\u001b[49m\u001b[43m \u001b[49m\u001b[43mfacecolors\u001b[49m\u001b[38;5;241;43m=\u001b[39;49m\u001b[38;5;124;43m\"\u001b[39;49m\u001b[38;5;124;43mred\u001b[39;49m\u001b[38;5;124;43m\"\u001b[39;49m\u001b[43m,\u001b[49m\u001b[43m \u001b[49m\u001b[43medgecolors\u001b[49m\u001b[38;5;241;43m=\u001b[39;49m\u001b[38;5;124;43m\"\u001b[39;49m\u001b[38;5;124;43mblack\u001b[39;49m\u001b[38;5;124;43m\"\u001b[39;49m\u001b[43m,\u001b[49m\n\u001b[1;32m      4\u001b[0m \u001b[43m            \u001b[49m\u001b[43ms\u001b[49m\u001b[38;5;241;43m=\u001b[39;49m\u001b[43mx_axis\u001b[49m\u001b[43m,\u001b[49m\u001b[43m \u001b[49m\u001b[43malpha\u001b[49m\u001b[38;5;241;43m=\u001b[39;49m\u001b[38;5;241;43m0.75\u001b[39;49m\u001b[43m)\u001b[49m\n",
      "File \u001b[0;32m/usr/local/Caskroom/miniconda/base/envs/Python38/lib/python3.8/site-packages/matplotlib/pyplot.py:2807\u001b[0m, in \u001b[0;36mscatter\u001b[0;34m(x, y, s, c, marker, cmap, norm, vmin, vmax, alpha, linewidths, edgecolors, plotnonfinite, data, **kwargs)\u001b[0m\n\u001b[1;32m   2802\u001b[0m \u001b[38;5;129m@_copy_docstring_and_deprecators\u001b[39m(Axes\u001b[38;5;241m.\u001b[39mscatter)\n\u001b[1;32m   2803\u001b[0m \u001b[38;5;28;01mdef\u001b[39;00m \u001b[38;5;21mscatter\u001b[39m(\n\u001b[1;32m   2804\u001b[0m         x, y, s\u001b[38;5;241m=\u001b[39m\u001b[38;5;28;01mNone\u001b[39;00m, c\u001b[38;5;241m=\u001b[39m\u001b[38;5;28;01mNone\u001b[39;00m, marker\u001b[38;5;241m=\u001b[39m\u001b[38;5;28;01mNone\u001b[39;00m, cmap\u001b[38;5;241m=\u001b[39m\u001b[38;5;28;01mNone\u001b[39;00m, norm\u001b[38;5;241m=\u001b[39m\u001b[38;5;28;01mNone\u001b[39;00m,\n\u001b[1;32m   2805\u001b[0m         vmin\u001b[38;5;241m=\u001b[39m\u001b[38;5;28;01mNone\u001b[39;00m, vmax\u001b[38;5;241m=\u001b[39m\u001b[38;5;28;01mNone\u001b[39;00m, alpha\u001b[38;5;241m=\u001b[39m\u001b[38;5;28;01mNone\u001b[39;00m, linewidths\u001b[38;5;241m=\u001b[39m\u001b[38;5;28;01mNone\u001b[39;00m, \u001b[38;5;241m*\u001b[39m,\n\u001b[1;32m   2806\u001b[0m         edgecolors\u001b[38;5;241m=\u001b[39m\u001b[38;5;28;01mNone\u001b[39;00m, plotnonfinite\u001b[38;5;241m=\u001b[39m\u001b[38;5;28;01mFalse\u001b[39;00m, data\u001b[38;5;241m=\u001b[39m\u001b[38;5;28;01mNone\u001b[39;00m, \u001b[38;5;241m*\u001b[39m\u001b[38;5;241m*\u001b[39mkwargs):\n\u001b[0;32m-> 2807\u001b[0m     __ret \u001b[38;5;241m=\u001b[39m \u001b[43mgca\u001b[49m\u001b[43m(\u001b[49m\u001b[43m)\u001b[49m\u001b[38;5;241;43m.\u001b[39;49m\u001b[43mscatter\u001b[49m\u001b[43m(\u001b[49m\n\u001b[1;32m   2808\u001b[0m \u001b[43m        \u001b[49m\u001b[43mx\u001b[49m\u001b[43m,\u001b[49m\u001b[43m \u001b[49m\u001b[43my\u001b[49m\u001b[43m,\u001b[49m\u001b[43m \u001b[49m\u001b[43ms\u001b[49m\u001b[38;5;241;43m=\u001b[39;49m\u001b[43ms\u001b[49m\u001b[43m,\u001b[49m\u001b[43m \u001b[49m\u001b[43mc\u001b[49m\u001b[38;5;241;43m=\u001b[39;49m\u001b[43mc\u001b[49m\u001b[43m,\u001b[49m\u001b[43m \u001b[49m\u001b[43mmarker\u001b[49m\u001b[38;5;241;43m=\u001b[39;49m\u001b[43mmarker\u001b[49m\u001b[43m,\u001b[49m\u001b[43m \u001b[49m\u001b[43mcmap\u001b[49m\u001b[38;5;241;43m=\u001b[39;49m\u001b[43mcmap\u001b[49m\u001b[43m,\u001b[49m\u001b[43m \u001b[49m\u001b[43mnorm\u001b[49m\u001b[38;5;241;43m=\u001b[39;49m\u001b[43mnorm\u001b[49m\u001b[43m,\u001b[49m\n\u001b[1;32m   2809\u001b[0m \u001b[43m        \u001b[49m\u001b[43mvmin\u001b[49m\u001b[38;5;241;43m=\u001b[39;49m\u001b[43mvmin\u001b[49m\u001b[43m,\u001b[49m\u001b[43m \u001b[49m\u001b[43mvmax\u001b[49m\u001b[38;5;241;43m=\u001b[39;49m\u001b[43mvmax\u001b[49m\u001b[43m,\u001b[49m\u001b[43m \u001b[49m\u001b[43malpha\u001b[49m\u001b[38;5;241;43m=\u001b[39;49m\u001b[43malpha\u001b[49m\u001b[43m,\u001b[49m\u001b[43m \u001b[49m\u001b[43mlinewidths\u001b[49m\u001b[38;5;241;43m=\u001b[39;49m\u001b[43mlinewidths\u001b[49m\u001b[43m,\u001b[49m\n\u001b[1;32m   2810\u001b[0m \u001b[43m        \u001b[49m\u001b[43medgecolors\u001b[49m\u001b[38;5;241;43m=\u001b[39;49m\u001b[43medgecolors\u001b[49m\u001b[43m,\u001b[49m\u001b[43m \u001b[49m\u001b[43mplotnonfinite\u001b[49m\u001b[38;5;241;43m=\u001b[39;49m\u001b[43mplotnonfinite\u001b[49m\u001b[43m,\u001b[49m\n\u001b[1;32m   2811\u001b[0m \u001b[43m        \u001b[49m\u001b[38;5;241;43m*\u001b[39;49m\u001b[38;5;241;43m*\u001b[39;49m\u001b[43m(\u001b[49m\u001b[43m{\u001b[49m\u001b[38;5;124;43m\"\u001b[39;49m\u001b[38;5;124;43mdata\u001b[39;49m\u001b[38;5;124;43m\"\u001b[39;49m\u001b[43m:\u001b[49m\u001b[43m \u001b[49m\u001b[43mdata\u001b[49m\u001b[43m}\u001b[49m\u001b[43m \u001b[49m\u001b[38;5;28;43;01mif\u001b[39;49;00m\u001b[43m \u001b[49m\u001b[43mdata\u001b[49m\u001b[43m \u001b[49m\u001b[38;5;129;43;01mis\u001b[39;49;00m\u001b[43m \u001b[49m\u001b[38;5;129;43;01mnot\u001b[39;49;00m\u001b[43m \u001b[49m\u001b[38;5;28;43;01mNone\u001b[39;49;00m\u001b[43m \u001b[49m\u001b[38;5;28;43;01melse\u001b[39;49;00m\u001b[43m \u001b[49m\u001b[43m{\u001b[49m\u001b[43m}\u001b[49m\u001b[43m)\u001b[49m\u001b[43m,\u001b[49m\u001b[43m \u001b[49m\u001b[38;5;241;43m*\u001b[39;49m\u001b[38;5;241;43m*\u001b[39;49m\u001b[43mkwargs\u001b[49m\u001b[43m)\u001b[49m\n\u001b[1;32m   2812\u001b[0m     sci(__ret)\n\u001b[1;32m   2813\u001b[0m     \u001b[38;5;28;01mreturn\u001b[39;00m __ret\n",
      "File \u001b[0;32m/usr/local/Caskroom/miniconda/base/envs/Python38/lib/python3.8/site-packages/matplotlib/__init__.py:1412\u001b[0m, in \u001b[0;36m_preprocess_data.<locals>.inner\u001b[0;34m(ax, data, *args, **kwargs)\u001b[0m\n\u001b[1;32m   1409\u001b[0m \u001b[38;5;129m@functools\u001b[39m\u001b[38;5;241m.\u001b[39mwraps(func)\n\u001b[1;32m   1410\u001b[0m \u001b[38;5;28;01mdef\u001b[39;00m \u001b[38;5;21minner\u001b[39m(ax, \u001b[38;5;241m*\u001b[39margs, data\u001b[38;5;241m=\u001b[39m\u001b[38;5;28;01mNone\u001b[39;00m, \u001b[38;5;241m*\u001b[39m\u001b[38;5;241m*\u001b[39mkwargs):\n\u001b[1;32m   1411\u001b[0m     \u001b[38;5;28;01mif\u001b[39;00m data \u001b[38;5;129;01mis\u001b[39;00m \u001b[38;5;28;01mNone\u001b[39;00m:\n\u001b[0;32m-> 1412\u001b[0m         \u001b[38;5;28;01mreturn\u001b[39;00m \u001b[43mfunc\u001b[49m\u001b[43m(\u001b[49m\u001b[43max\u001b[49m\u001b[43m,\u001b[49m\u001b[43m \u001b[49m\u001b[38;5;241;43m*\u001b[39;49m\u001b[38;5;28;43mmap\u001b[39;49m\u001b[43m(\u001b[49m\u001b[43msanitize_sequence\u001b[49m\u001b[43m,\u001b[49m\u001b[43m \u001b[49m\u001b[43margs\u001b[49m\u001b[43m)\u001b[49m\u001b[43m,\u001b[49m\u001b[43m \u001b[49m\u001b[38;5;241;43m*\u001b[39;49m\u001b[38;5;241;43m*\u001b[39;49m\u001b[43mkwargs\u001b[49m\u001b[43m)\u001b[49m\n\u001b[1;32m   1414\u001b[0m     bound \u001b[38;5;241m=\u001b[39m new_sig\u001b[38;5;241m.\u001b[39mbind(ax, \u001b[38;5;241m*\u001b[39margs, \u001b[38;5;241m*\u001b[39m\u001b[38;5;241m*\u001b[39mkwargs)\n\u001b[1;32m   1415\u001b[0m     auto_label \u001b[38;5;241m=\u001b[39m (bound\u001b[38;5;241m.\u001b[39marguments\u001b[38;5;241m.\u001b[39mget(label_namer)\n\u001b[1;32m   1416\u001b[0m                   \u001b[38;5;129;01mor\u001b[39;00m bound\u001b[38;5;241m.\u001b[39mkwargs\u001b[38;5;241m.\u001b[39mget(label_namer))\n",
      "File \u001b[0;32m/usr/local/Caskroom/miniconda/base/envs/Python38/lib/python3.8/site-packages/matplotlib/axes/_axes.py:4378\u001b[0m, in \u001b[0;36mAxes.scatter\u001b[0;34m(self, x, y, s, c, marker, cmap, norm, vmin, vmax, alpha, linewidths, edgecolors, plotnonfinite, **kwargs)\u001b[0m\n\u001b[1;32m   4374\u001b[0m s \u001b[38;5;241m=\u001b[39m np\u001b[38;5;241m.\u001b[39mma\u001b[38;5;241m.\u001b[39mravel(s)\n\u001b[1;32m   4375\u001b[0m \u001b[38;5;28;01mif\u001b[39;00m (\u001b[38;5;28mlen\u001b[39m(s) \u001b[38;5;129;01mnot\u001b[39;00m \u001b[38;5;129;01min\u001b[39;00m (\u001b[38;5;241m1\u001b[39m, x\u001b[38;5;241m.\u001b[39msize) \u001b[38;5;129;01mor\u001b[39;00m\n\u001b[1;32m   4376\u001b[0m         (\u001b[38;5;129;01mnot\u001b[39;00m np\u001b[38;5;241m.\u001b[39missubdtype(s\u001b[38;5;241m.\u001b[39mdtype, np\u001b[38;5;241m.\u001b[39mfloating) \u001b[38;5;129;01mand\u001b[39;00m\n\u001b[1;32m   4377\u001b[0m          \u001b[38;5;129;01mnot\u001b[39;00m np\u001b[38;5;241m.\u001b[39missubdtype(s\u001b[38;5;241m.\u001b[39mdtype, np\u001b[38;5;241m.\u001b[39minteger))):\n\u001b[0;32m-> 4378\u001b[0m     \u001b[38;5;28;01mraise\u001b[39;00m \u001b[38;5;167;01mValueError\u001b[39;00m(\n\u001b[1;32m   4379\u001b[0m         \u001b[38;5;124m\"\u001b[39m\u001b[38;5;124ms must be a scalar, \u001b[39m\u001b[38;5;124m\"\u001b[39m\n\u001b[1;32m   4380\u001b[0m         \u001b[38;5;124m\"\u001b[39m\u001b[38;5;124mor float array-like with the same size as x and y\u001b[39m\u001b[38;5;124m\"\u001b[39m)\n\u001b[1;32m   4382\u001b[0m \u001b[38;5;66;03m# get the original edgecolor the user passed before we normalize\u001b[39;00m\n\u001b[1;32m   4383\u001b[0m orig_edgecolor \u001b[38;5;241m=\u001b[39m edgecolors\n",
      "\u001b[0;31mValueError\u001b[0m: s must be a scalar, or float array-like with the same size as x and y"
     ]
    },
    {
     "data": {
      "image/png": "[encoded data removed]",
      "text/plain": [
       "<Figure size 432x288 with 1 Axes>"
      ]
     },
     "metadata": {
      "needs_background": "light"
     },
     "output_type": "display_data"
    }
   ],
   "source": [
    "x_axis = df['Value of Mortgage']\n",
    "y_axis = df['Personal Loan']\n",
    "plt.scatter(x_axis, y_axis, marker=\"o\", facecolors=\"red\", edgecolors=\"black\",\n",
    "            s=x_axis, alpha=0.75)"
   ]
  },
  {
   "cell_type": "code",
   "execution_count": 46,
   "id": "9e325a5e",
   "metadata": {},
   "outputs": [],
   "source": [
    "m = df_try['Value of Mortgage'].max()\n",
    "jumps = []\n",
    "# creating the jumps (ranges of 100)\n",
    "for item in range(0, m, 10000):\n",
    "    jumps.append([item, item + 10000])\n",
    "\n",
    "for item in jumps:\n",
    "    filter_numbers = ((df_try['Value of Mortgage'] >= item[0]) & (df_try['Value of Mortgage'] < item[1]))\n",
    "    df_mortgage=(df_try.loc[filter_numbers]) # you can save the data here and plot it later on\n"
   ]
  },
  {
   "cell_type": "code",
   "execution_count": 47,
   "id": "54c5dfd9",
   "metadata": {},
   "outputs": [
    {
     "data": {
      "text/html": [
       "<div>\n",
       "<style scoped>\n",
       "    .dataframe tbody tr th:only-of-type {\n",
       "        vertical-align: middle;\n",
       "    }\n",
       "\n",
       "    .dataframe tbody tr th {\n",
       "        vertical-align: top;\n",
       "    }\n",
       "\n",
       "    .dataframe thead th {\n",
       "        text-align: right;\n",
       "    }\n",
       "</style>\n",
       "<table border=\"1\" class=\"dataframe\">\n",
       "  <thead>\n",
       "    <tr style=\"text-align: right;\">\n",
       "      <th></th>\n",
       "      <th>Age</th>\n",
       "      <th>Years Work Experience</th>\n",
       "      <th>Income</th>\n",
       "      <th>ZIP Code</th>\n",
       "      <th>Family Size</th>\n",
       "      <th>Monthly Credit Card Spending</th>\n",
       "      <th>Education Level</th>\n",
       "      <th>Value of Mortgage</th>\n",
       "      <th>Personal Loan</th>\n",
       "    </tr>\n",
       "  </thead>\n",
       "  <tbody>\n",
       "    <tr>\n",
       "      <th>2934</th>\n",
       "      <td>37</td>\n",
       "      <td>13</td>\n",
       "      <td>195000</td>\n",
       "      <td>91763</td>\n",
       "      <td>2</td>\n",
       "      <td>6500</td>\n",
       "      <td>Undergrad</td>\n",
       "      <td>635000</td>\n",
       "      <td>No</td>\n",
       "    </tr>\n",
       "  </tbody>\n",
       "</table>\n",
       "</div>"
      ],
      "text/plain": [
       "      Age  Years Work Experience  Income  ZIP Code  Family Size  \\\n",
       "2934   37                     13  195000     91763            2   \n",
       "\n",
       "      Monthly Credit Card Spending Education Level  Value of Mortgage  \\\n",
       "2934                          6500       Undergrad             635000   \n",
       "\n",
       "     Personal Loan  \n",
       "2934            No  "
      ]
     },
     "execution_count": 47,
     "metadata": {},
     "output_type": "execute_result"
    }
   ],
   "source": [
    "df_mortgage.head()"
   ]
  },
  {
   "cell_type": "code",
   "execution_count": 3,
   "id": "ff2344b2",
   "metadata": {},
   "outputs": [
    {
     "data": {
      "text/plain": [
       "Personal Loan\n",
       "No      51789.380531\n",
       "Yes    100845.833333\n",
       "Name: Value of Mortgage, dtype: float64"
      ]
     },
     "execution_count": 3,
     "metadata": {},
     "output_type": "execute_result"
    }
   ],
   "source": [
    "group = df.groupby('Personal Loan')\n",
    "# mortgage = group\n",
    "mortgage = group['Value of Mortgage']\n",
    "mortgage.mean()"
   ]
  },
  {
   "cell_type": "code",
   "execution_count": 11,
   "id": "d72b662e",
   "metadata": {},
   "outputs": [
    {
     "data": {
      "text/plain": [
       "<bound method NDFrame.describe of 0           0\n",
       "1           0\n",
       "2           0\n",
       "3           0\n",
       "4           0\n",
       "        ...  \n",
       "4995        0\n",
       "4996    85000\n",
       "4997        0\n",
       "4998        0\n",
       "4999        0\n",
       "Name: Value of Mortgage, Length: 5000, dtype: int64>"
      ]
     },
     "execution_count": 11,
     "metadata": {},
     "output_type": "execute_result"
    }
   ],
   "source": [
    "df['Value of Mortgage'].describe"
   ]
  },
  {
   "cell_type": "code",
   "execution_count": 10,
   "id": "37fbe0a9",
   "metadata": {},
   "outputs": [
    {
     "name": "stdout",
     "output_type": "stream",
     "text": [
      "635000\n",
      "0\n"
     ]
    }
   ],
   "source": [
    "#Determining range for value of mortgages\n",
    "print(df[\"Value of Mortgage\"].max())\n",
    "print(df[\"Value of Mortgage\"].min())"
   ]
  },
  {
   "cell_type": "code",
   "execution_count": 4,
   "id": "365bc244",
   "metadata": {},
   "outputs": [
    {
     "data": {
      "text/plain": [
       "0         3462\n",
       "98000       17\n",
       "119000      16\n",
       "89000       16\n",
       "91000       16\n",
       "Name: Value of Mortgage, dtype: int64"
      ]
     },
     "execution_count": 4,
     "metadata": {},
     "output_type": "execute_result"
    }
   ],
   "source": [
    "mortgage_numbers_data = df['Value of Mortgage'].value_counts()\n",
    "mortgage_numbers_data.head()"
   ]
  },
  {
   "cell_type": "code",
   "execution_count": 6,
   "id": "11e6ce3a",
   "metadata": {},
   "outputs": [
    {
     "data": {
      "image/png": "[encoded data removed]",
      "text/plain": [
       "<Figure size 576x432 with 1 Axes>"
      ]
     },
     "metadata": {
      "needs_background": "light"
     },
     "output_type": "display_data"
    }
   ],
   "source": [
    "# mortgage_fig1 = mortgage_numbers_data.plot(kind=\"bar\", color=[\"red\", \"blue\"], figsize=(8,6),\n",
    "#                                    title=\"Distribution of Mortgages\",\n",
    "#                                    xlabel=\"Value of Mortgages\",\n",
    "#                                    ylabel=\"Accept or Don't\")\n",
    "\n",
    "# # Configure x-tick rotation\n",
    "# xticklabels = mortgage_numbers_data.index\n",
    "# mortgage_fig1.set_xticklabels(xticklabels, rotation=45, rotation_mode=\"anchor\", ha=\"right\", wrap=True)\n",
    "\n",
    "# # Show plot\n",
    "# plt.show()"
   ]
  },
  {
   "cell_type": "code",
   "execution_count": 10,
   "id": "3fac56c3",
   "metadata": {},
   "outputs": [
    {
     "ename": "ValueError",
     "evalue": "Bin edges must be unique: array([     0.,      0.,      0., 101000., 635000.]).\nYou can drop duplicate edges by setting the 'duplicates' kwarg",
     "output_type": "error",
     "traceback": [
      "\u001b[0;31m---------------------------------------------------------------------------\u001b[0m",
      "\u001b[0;31mValueError\u001b[0m                                Traceback (most recent call last)",
      "Input \u001b[0;32mIn [10]\u001b[0m, in \u001b[0;36m<cell line: 1>\u001b[0;34m()\u001b[0m\n\u001b[0;32m----> 1\u001b[0m \u001b[43mpd\u001b[49m\u001b[38;5;241;43m.\u001b[39;49m\u001b[43mqcut\u001b[49m\u001b[43m(\u001b[49m\u001b[43mdf\u001b[49m\u001b[43m[\u001b[49m\u001b[38;5;124;43m\"\u001b[39;49m\u001b[38;5;124;43mValue of Mortgage\u001b[39;49m\u001b[38;5;124;43m\"\u001b[39;49m\u001b[43m]\u001b[49m\u001b[43m,\u001b[49m\u001b[43m \u001b[49m\u001b[43mq\u001b[49m\u001b[38;5;241;43m=\u001b[39;49m\u001b[38;5;241;43m4\u001b[39;49m\u001b[43m)\u001b[49m\n",
      "File \u001b[0;32m/usr/local/Caskroom/miniconda/base/envs/Python38/lib/python3.8/site-packages/pandas/core/reshape/tile.py:378\u001b[0m, in \u001b[0;36mqcut\u001b[0;34m(x, q, labels, retbins, precision, duplicates)\u001b[0m\n\u001b[1;32m    375\u001b[0m x_np \u001b[38;5;241m=\u001b[39m x_np[\u001b[38;5;241m~\u001b[39mnp\u001b[38;5;241m.\u001b[39misnan(x_np)]\n\u001b[1;32m    376\u001b[0m bins \u001b[38;5;241m=\u001b[39m np\u001b[38;5;241m.\u001b[39mquantile(x_np, quantiles)\n\u001b[0;32m--> 378\u001b[0m fac, bins \u001b[38;5;241m=\u001b[39m \u001b[43m_bins_to_cuts\u001b[49m\u001b[43m(\u001b[49m\n\u001b[1;32m    379\u001b[0m \u001b[43m    \u001b[49m\u001b[43mx\u001b[49m\u001b[43m,\u001b[49m\n\u001b[1;32m    380\u001b[0m \u001b[43m    \u001b[49m\u001b[43mbins\u001b[49m\u001b[43m,\u001b[49m\n\u001b[1;32m    381\u001b[0m \u001b[43m    \u001b[49m\u001b[43mlabels\u001b[49m\u001b[38;5;241;43m=\u001b[39;49m\u001b[43mlabels\u001b[49m\u001b[43m,\u001b[49m\n\u001b[1;32m    382\u001b[0m \u001b[43m    \u001b[49m\u001b[43mprecision\u001b[49m\u001b[38;5;241;43m=\u001b[39;49m\u001b[43mprecision\u001b[49m\u001b[43m,\u001b[49m\n\u001b[1;32m    383\u001b[0m \u001b[43m    \u001b[49m\u001b[43minclude_lowest\u001b[49m\u001b[38;5;241;43m=\u001b[39;49m\u001b[38;5;28;43;01mTrue\u001b[39;49;00m\u001b[43m,\u001b[49m\n\u001b[1;32m    384\u001b[0m \u001b[43m    \u001b[49m\u001b[43mdtype\u001b[49m\u001b[38;5;241;43m=\u001b[39;49m\u001b[43mdtype\u001b[49m\u001b[43m,\u001b[49m\n\u001b[1;32m    385\u001b[0m \u001b[43m    \u001b[49m\u001b[43mduplicates\u001b[49m\u001b[38;5;241;43m=\u001b[39;49m\u001b[43mduplicates\u001b[49m\u001b[43m,\u001b[49m\n\u001b[1;32m    386\u001b[0m \u001b[43m\u001b[49m\u001b[43m)\u001b[49m\n\u001b[1;32m    388\u001b[0m \u001b[38;5;28;01mreturn\u001b[39;00m _postprocess_for_cut(fac, bins, retbins, dtype, original)\n",
      "File \u001b[0;32m/usr/local/Caskroom/miniconda/base/envs/Python38/lib/python3.8/site-packages/pandas/core/reshape/tile.py:419\u001b[0m, in \u001b[0;36m_bins_to_cuts\u001b[0;34m(x, bins, right, labels, precision, include_lowest, dtype, duplicates, ordered)\u001b[0m\n\u001b[1;32m    417\u001b[0m \u001b[38;5;28;01mif\u001b[39;00m \u001b[38;5;28mlen\u001b[39m(unique_bins) \u001b[38;5;241m<\u001b[39m \u001b[38;5;28mlen\u001b[39m(bins) \u001b[38;5;129;01mand\u001b[39;00m \u001b[38;5;28mlen\u001b[39m(bins) \u001b[38;5;241m!=\u001b[39m \u001b[38;5;241m2\u001b[39m:\n\u001b[1;32m    418\u001b[0m     \u001b[38;5;28;01mif\u001b[39;00m duplicates \u001b[38;5;241m==\u001b[39m \u001b[38;5;124m\"\u001b[39m\u001b[38;5;124mraise\u001b[39m\u001b[38;5;124m\"\u001b[39m:\n\u001b[0;32m--> 419\u001b[0m         \u001b[38;5;28;01mraise\u001b[39;00m \u001b[38;5;167;01mValueError\u001b[39;00m(\n\u001b[1;32m    420\u001b[0m             \u001b[38;5;124mf\u001b[39m\u001b[38;5;124m\"\u001b[39m\u001b[38;5;124mBin edges must be unique: \u001b[39m\u001b[38;5;132;01m{\u001b[39;00m\u001b[38;5;28mrepr\u001b[39m(bins)\u001b[38;5;132;01m}\u001b[39;00m\u001b[38;5;124m.\u001b[39m\u001b[38;5;130;01m\\n\u001b[39;00m\u001b[38;5;124m\"\u001b[39m\n\u001b[1;32m    421\u001b[0m             \u001b[38;5;124mf\u001b[39m\u001b[38;5;124m\"\u001b[39m\u001b[38;5;124mYou can drop duplicate edges by setting the \u001b[39m\u001b[38;5;124m'\u001b[39m\u001b[38;5;124mduplicates\u001b[39m\u001b[38;5;124m'\u001b[39m\u001b[38;5;124m kwarg\u001b[39m\u001b[38;5;124m\"\u001b[39m\n\u001b[1;32m    422\u001b[0m         )\n\u001b[1;32m    423\u001b[0m     \u001b[38;5;28;01melse\u001b[39;00m:\n\u001b[1;32m    424\u001b[0m         bins \u001b[38;5;241m=\u001b[39m unique_bins\n",
      "\u001b[0;31mValueError\u001b[0m: Bin edges must be unique: array([     0.,      0.,      0., 101000., 635000.]).\nYou can drop duplicate edges by setting the 'duplicates' kwarg"
     ]
    }
   ],
   "source": [
    "pd.qcut(df[\"Value of Mortgage\"], q=4)"
   ]
  },
  {
   "cell_type": "code",
   "execution_count": 9,
   "id": "52b25f6e",
   "metadata": {},
   "outputs": [
    {
     "data": {
      "text/plain": [
       "0       25\n",
       "1       45\n",
       "2       39\n",
       "3       35\n",
       "4       35\n",
       "        ..\n",
       "4995    29\n",
       "4996    30\n",
       "4997    63\n",
       "4998    65\n",
       "4999    28\n",
       "Name: Age, Length: 5000, dtype: int64"
      ]
     },
     "execution_count": 9,
     "metadata": {},
     "output_type": "execute_result"
    }
   ],
   "source": [
    "year = df.iloc[:,0]\n",
    "# violent_crime_rate = df.iloc[:,3]\n",
    "# plt.scatter(year,violent_crime_rate)\n",
    "# plt.xticks(year, rotation=90)\n",
    "# plt.xlabel('Year')\n",
    "# plt.ylabel('Violent Crime Rate')\n",
    "# plt.show()\n",
    "year"
   ]
  }
 ],
 "metadata": {
  "kernelspec": {
   "display_name": "Python 3 (ipykernel)",
   "language": "python",
   "name": "python3"
  },
  "language_info": {
   "codemirror_mode": {
    "name": "ipython",
    "version": 3
   },
   "file_extension": ".py",
   "mimetype": "text/x-python",
   "name": "python",
   "nbconvert_exporter": "python",
   "pygments_lexer": "ipython3",
   "version": "3.8.13"
  }
 },
 "nbformat": 4,
 "nbformat_minor": 5
}
