{
 "cells": [
  {
   "cell_type": "code",
   "execution_count": null,
   "id": "36683eb0",
   "metadata": {},
   "outputs": [],
   "source": [
    "# Importing pandas\n",
    "import pandas as pd\n",
    "\n",
    "# Reading CSV file containing data into a Dataframe\n",
    "bank_loans = pd.read_csv(\"raw_data/Bank_Personal_Loan_Modelling.csv\")\n",
    "\n",
    "# Displays first few rows of dataframe to show column names\n",
    "bank_loans.head()"
   ]
  },
  {
   "cell_type": "code",
   "execution_count": null,
   "id": "d9da2b25",
   "metadata": {},
   "outputs": [],
   "source": [
    "# Narrowing columns in the data frame for our use (can be adjusted if need be)\n",
    "bank_loans = bank_loans[['Age', 'Experience', 'Income', 'ZIP Code', 'Family', 'CCAvg',\n",
    "                         'Education', 'Mortgage', 'Personal Loan']]\n",
    "\n",
    "# Displaying reduced dataframe\n",
    "bank_loans.head()"
   ]
  },
  {
   "cell_type": "code",
   "execution_count": null,
   "id": "8fd95a01",
   "metadata": {},
   "outputs": [],
   "source": [
    "# Checking data types of each column\n",
    "bank_loans.dtypes"
   ]
  },
  {
   "cell_type": "code",
   "execution_count": null,
   "id": "542c48a9",
   "metadata": {},
   "outputs": [],
   "source": [
    "# Converts education column to type string\n",
    "bank_loans = bank_loans.astype({\"Education\": 'str'})\n",
    "\n",
    "# Clarifies what each value in the education category stands for\n",
    "bank_loans[\"Education\"] = bank_loans[\"Education\"].replace({\"1\": \"Undergrad\", \"2\": \"Graduate\",\n",
    "                                                          \"3\": \"Advanced/Professional\"})\n",
    "\n"
   ]
  },
  {
   "cell_type": "code",
   "execution_count": null,
   "id": "e70c9b69",
   "metadata": {},
   "outputs": [],
   "source": [
    "# Converts personal loan column to type string\n",
    "bank_loans = bank_loans.astype({\"Personal Loan\": 'str'})\n",
    "\n",
    "# Clarifies what each value in the personal loan category stands for\n",
    "bank_loans[\"Personal Loan\"] = bank_loans[\"Personal Loan\"].replace({\"0\": \"No\", \"1\": \"Yes\"})"
   ]
  },
  {
   "cell_type": "code",
   "execution_count": null,
   "id": "653b7a07",
   "metadata": {},
   "outputs": [],
   "source": [
    "# Pull out the income column into a series and converts to type string\n",
    "income = bank_loans[\"Income\"].astype('str')\n",
    "\n",
    "# Adds 3 zeros to each value in income\n",
    "income = [x + \"000\" for x in income]\n",
    "\n",
    "# Converts income back to int\n",
    "income = [int(x) for x in income]\n",
    "\n",
    "# Overwrites the bank loan dataframe with the updated income column\n",
    "bank_loans[\"Income\"] = income\n",
    "\n",
    "# Checks the dataframe\n",
    "bank_loans.head()\n"
   ]
  },
  {
   "cell_type": "code",
   "execution_count": null,
   "id": "5d23b108",
   "metadata": {},
   "outputs": [],
   "source": [
    "# Pull out the mortgage column into a series and converts to type string\n",
    "mortgage = bank_loans[\"Mortgage\"].astype('str')\n",
    "\n",
    "# Adds 3 zeros to each value in mortgage\n",
    "mortgage = [x + \"000\" for x in mortgage]\n",
    "\n",
    "# Converts mortgage back to int, removes extra zeros from people who don't have a mortage also\n",
    "mortgage = [int(x) for x in mortgage]\n",
    "\n",
    "# Overwrites the bank loan dataframe with the updated mortgage column\n",
    "bank_loans[\"Mortgage\"] = mortgage\n",
    "\n",
    "# Checks the dataframe\n",
    "bank_loans.head()"
   ]
  },
  {
   "cell_type": "code",
   "execution_count": null,
   "id": "fc15a224",
   "metadata": {},
   "outputs": [],
   "source": [
    "# Makes sure each value in CCAvg has 3 decimal places\n",
    "bank_loans[\"CCAvg\"] = bank_loans[\"CCAvg\"].map('{:,.3f}'.format)\n",
    "\n",
    "# Converts CCAvg column to type string\n",
    "ccavg = bank_loans[\"CCAvg\"].astype('str')\n",
    "\n",
    "# Removes the decimal in each row to convert value from thousands to normal\n",
    "ccavg = [x.replace(\".\", \"\") for x in ccavg]\n",
    "\n",
    "# Converts the list into type int\n",
    "ccavg = [int(x) for x in ccavg]\n",
    "\n",
    "# Overwrites the CCAvg column in bank loans dataframe with new formatting\n",
    "bank_loans[\"CCAvg\"] = ccavg\n",
    "\n",
    "# Checks the dataframe\n",
    "bank_loans.head()"
   ]
  },
  {
   "cell_type": "code",
   "execution_count": null,
   "id": "3d9e772f",
   "metadata": {},
   "outputs": [],
   "source": [
    "# Rename columns to more clearly indicate what is shown\n",
    "bank_loans = bank_loans.rename(columns={\"Experience\": \"Years Work Experience\", \"Family\": \"Family Size\",\n",
    "                                       \"CCAvg\": \"Monthly Credit Card Spending\", \n",
    "                                       \"Education\": \"Education Level\", \"Mortgage\": \"Value of Mortgage\"})\n",
    "\n",
    "# check the dataframe \n",
    "bank_loans.head()\n",
    "\n",
    "# # Cleanly displays the dataframe if needed\n",
    "# bank_loans.style.set_properties(**{'text-align': 'left'})"
   ]
  },
  {
   "cell_type": "code",
   "execution_count": null,
   "id": "a25e7717",
   "metadata": {},
   "outputs": [],
   "source": [
    "# Outputs data frame to CSV file for use in other notebooks\n",
    "bank_loans.to_csv(\"cleaned_data/cleaned_bank_loan_modeling.csv\", index=False)"
   ]
  }
 ],
 "metadata": {
  "kernelspec": {
   "display_name": "Python [conda env:PythonData38] *",
   "language": "python",
   "name": "conda-env-PythonData38-py"
  },
  "language_info": {
   "codemirror_mode": {
    "name": "ipython",
    "version": 3
   },
   "file_extension": ".py",
   "mimetype": "text/x-python",
   "name": "python",
   "nbconvert_exporter": "python",
   "pygments_lexer": "ipython3",
   "version": "3.8.12"
  }
 },
 "nbformat": 4,
 "nbformat_minor": 5
}
