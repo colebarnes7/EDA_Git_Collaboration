{
 "cells": [
  {
   "cell_type": "code",
   "execution_count": null,
   "metadata": {},
   "outputs": [],
   "source": [
    "#Dependencies and setup\n",
    "import pandas as pd\n",
    "import matplotlib.pyplot as plt\n",
    "import scipy.stats as st\n",
    "import numpy as np"
   ]
  },
  {
   "cell_type": "code",
   "execution_count": null,
   "metadata": {},
   "outputs": [],
   "source": [
    "# Read Study data files\n",
    "bank_loans = pd.read_csv(\"data/cleaned_data/cleaned_bank_loan_modeling.csv\")\n",
    "bank_loans.head()"
   ]
  },
  {
   "cell_type": "code",
   "execution_count": null,
   "metadata": {},
   "outputs": [],
   "source": [
    "bank_loans.groupby(\"Personal Loan\").mean()\n"
   ]
  },
  {
   "cell_type": "code",
   "execution_count": null,
   "metadata": {
    "scrolled": true
   },
   "outputs": [],
   "source": [
    "bank_loans.groupby(\"Education Level\").mean()\n"
   ]
  },
  {
   "cell_type": "code",
   "execution_count": null,
   "metadata": {},
   "outputs": [],
   "source": []
  },
  {
   "cell_type": "code",
   "execution_count": null,
   "metadata": {},
   "outputs": [],
   "source": [
    "grouped = bank_loans.groupby(\"Age\")\n",
    "spending = grouped[\"Monthly Credit Card Spending\"]\n",
    "spending.mean()"
   ]
  },
  {
   "cell_type": "code",
   "execution_count": null,
   "metadata": {},
   "outputs": [],
   "source": [
    "grouped = bank_loans.groupby(\"Age\")\n",
    "Income = grouped[[\"Income\",\"Monthly Credit Card Spending\"]]\n",
    "Income.mean()"
   ]
  },
  {
   "cell_type": "code",
   "execution_count": null,
   "metadata": {},
   "outputs": [],
   "source": [
    "x_axis_age = bank_loans['Age']\n",
    "x_axis_age\n"
   ]
  },
  {
   "cell_type": "code",
   "execution_count": null,
   "metadata": {},
   "outputs": [],
   "source": [
    "y_axix_income = bank_loans['Income']\n",
    "y_axix_income"
   ]
  },
  {
   "cell_type": "code",
   "execution_count": null,
   "metadata": {},
   "outputs": [],
   "source": [
    "income_curve, = plt.plot(x_axis_age, y_axix_income, color=\"red\")"
   ]
  },
  {
   "cell_type": "code",
   "execution_count": null,
   "metadata": {},
   "outputs": [],
   "source": [
    "grouped = bank_loans.groupby(\"Personal Loan\")\n",
    "loan = grouped[[\"Income\",\"Monthly Credit Card Spending\"]]\n",
    "loan.count()\n"
   ]
  },
  {
   "cell_type": "code",
   "execution_count": null,
   "metadata": {},
   "outputs": [],
   "source": [
    "bank_loans.dtypes"
   ]
  },
  {
   "cell_type": "code",
   "execution_count": null,
   "metadata": {
    "scrolled": true
   },
   "outputs": [],
   "source": [
    "bank_loans.describe()"
   ]
  },
  {
   "cell_type": "code",
   "execution_count": null,
   "metadata": {},
   "outputs": [],
   "source": [
    "bank_loans.describe().transpose()"
   ]
  },
  {
   "cell_type": "code",
   "execution_count": null,
   "metadata": {},
   "outputs": [],
   "source": [
    "#association between Personal loan and different characteristics"
   ]
  },
  {
   "cell_type": "code",
   "execution_count": null,
   "metadata": {},
   "outputs": [],
   "source": [
    "bank_loans = bank_loans[[\"Personal Loan\", \"Age\", \"Income\", \"Years Work Experience\", \"Family Size\", \n",
    "                         \"Monthly Credit Card Spending\", \"Value of Mortgage\", ]].copy()"
   ]
  },
  {
   "cell_type": "code",
   "execution_count": null,
   "metadata": {},
   "outputs": [],
   "source": [
    "bank_loans.corr()"
   ]
  },
  {
   "cell_type": "code",
   "execution_count": null,
   "metadata": {},
   "outputs": [],
   "source": [
    "bank_loans = pd.read_csv(\"data/cleaned_data/cleaned_bank_loan_modeling.csv\")\n",
    "Incomes = bank_loans['Income']\n",
    "fig1, ax1 = plt.subplots()\n",
    "ax1.set_title('Income')\n",
    "ax1.set_ylabel('Income')\n",
    "ax1.boxplot(Incomes)\n",
    "plt.savefig(\"data/cleaned_data/boxplot\")\n",
    "plt.show()"
   ]
  },
  {
   "cell_type": "code",
   "execution_count": null,
   "metadata": {},
   "outputs": [],
   "source": [
    "quartiles = Incomes.quantile([.25,.5,.75])\n",
    "lowerq = quartiles[0.25]\n",
    "upperq = quartiles[0.75]\n",
    "iqr = upperq-lowerq\n",
    "\n",
    "print(f\"The lower quartile of Income is: {lowerq}\")\n",
    "print(f\"The upper quartile of Income is: {upperq}\")\n",
    "print(f\"The interquartile range of Income is: {iqr}\")\n",
    "print(f\"The the median of Income is: {quartiles[0.5]} \")\n",
    "\n",
    "lower_bound = lowerq - (1.5*iqr)\n",
    "upper_bound = upperq + (1.5*iqr)\n",
    "print(f\"Values below {lower_bound} could be outliers.\")\n",
    "print(f\"Values above {upper_bound} could be outliers.\")"
   ]
  },
  {
   "cell_type": "code",
   "execution_count": null,
   "metadata": {},
   "outputs": [],
   "source": [
    "mean_numpy = np.mean(Incomes)\n",
    "print(f\"The mean Income is {mean_numpy}\")\n",
    "\n",
    "median_numpy = np.median(Incomes)\n",
    "print(f\"The median Income is {median_numpy}\")\n",
    "\n"
   ]
  },
  {
   "cell_type": "code",
   "execution_count": null,
   "metadata": {},
   "outputs": [],
   "source": [
    "plt.hist(Incomes)\n",
    "plt.xlabel('Income')\n",
    "plt.ylabel('Counts')\n",
    "plt.savefig(\"data/cleaned_data/income_histogram\")\n",
    "plt.show()\n",
    "print(st.normaltest(Incomes.sample(65)))"
   ]
  },
  {
   "cell_type": "code",
   "execution_count": null,
   "metadata": {},
   "outputs": [],
   "source": [
    "plt.rcParams[\"figure.figsize\"] = (14,3)\n",
    "for histogram in bank_loans.columns:\n",
    "    if histogram !='ID':\n",
    "        bank_loans[histogram].hist()\n",
    "        plt.title(histogram)\n",
    "        plt.savefig(\"data/cleaned_data/histogram\")\n",
    "        plt.show()\n"
   ]
  },
  {
   "cell_type": "code",
   "execution_count": null,
   "metadata": {},
   "outputs": [],
   "source": [
    "bank_loans.groupby([\"Personal Loan\"]).count()"
   ]
  },
  {
   "cell_type": "code",
   "execution_count": null,
   "metadata": {},
   "outputs": [],
   "source": [
    "bank_loans.boxplot(\"Income\", by=\"Age\", figsize=(20, 10))\n",
    "plt.savefig(\"data/cleaned_data/income_age_boxplot\")"
   ]
  },
  {
   "cell_type": "code",
   "execution_count": null,
   "metadata": {},
   "outputs": [],
   "source": [
    "bank_loans.boxplot(\"Income\", by=\"Years Work Experience\", figsize=(20, 10))\n",
    "plt.savefig(\"data/cleaned_data/experience_income_boxplot\")"
   ]
  },
  {
   "cell_type": "code",
   "execution_count": null,
   "metadata": {},
   "outputs": [],
   "source": [
    "bank_loans.boxplot(\"Income\", by=\"Personal Loan\", figsize=(20, 10))\n",
    "plt.savefig(\"data/cleaned_data/loan_income_boxplot\")"
   ]
  },
  {
   "cell_type": "code",
   "execution_count": null,
   "metadata": {},
   "outputs": [],
   "source": [
    "bank_loans_Y = bank_loans[bank_loans['Personal Loan'] == 'Yes']\n",
    "bank_loans_N = bank_loans[bank_loans['Personal Loan'] == 'No']"
   ]
  },
  {
   "cell_type": "code",
   "execution_count": null,
   "metadata": {},
   "outputs": [],
   "source": [
    "bank_loans_Y.boxplot(\"Income\", by=\"Age\", figsize=(20, 10))\n",
    "plt.savefig(\"data/cleaned_data/loan_yes_income_boxplot\")"
   ]
  },
  {
   "cell_type": "code",
   "execution_count": null,
   "metadata": {
    "scrolled": true
   },
   "outputs": [],
   "source": [
    "bank_loans_N.boxplot(\"Income\", by=\"Age\", figsize=(20, 10))\n",
    "plt.savefig(\"data/cleaned_data/loan_no_income_boxplot\")"
   ]
  },
  {
   "cell_type": "code",
   "execution_count": null,
   "metadata": {},
   "outputs": [],
   "source": [
    "bank_loans_edu = bank_loans[bank_loans['Personal Loan'] == 'Yes']['Education Level'].value_counts()\n",
    "bank_loans_edu"
   ]
  },
  {
   "cell_type": "code",
   "execution_count": null,
   "metadata": {},
   "outputs": [],
   "source": [
    "bank_loans_ed = bank_loans[bank_loans['Personal Loan'] == 'No']['Education Level'].value_counts()\n",
    "bank_loans_ed"
   ]
  },
  {
   "cell_type": "code",
   "execution_count": null,
   "metadata": {},
   "outputs": [],
   "source": [
    "pd.DataFrame(dict(NO_PL= bank_loans_ed, yes_PL= bank_loans_edu)).plot.bar(figsize = (10,6))\n",
    "plt.ylabel('Frequency')\n",
    "plt.xlabel('Education Level')\n",
    "plt.xticks(np.arange(3),('1','2','3'), rotation = 'horizontal')\n",
    "plt.legend(('NO Personal Loan', 'Personal Loan'))\n",
    "plt.title('Distribution of \"Personal Loan\" Values \\n among Groups of \"Education\" Values', fontsize = 14, y = 1.05);\n",
    "plt.savefig('distribution_PL_among_Education.png', bbox_inches = 'tight')"
   ]
  },
  {
   "cell_type": "code",
   "execution_count": null,
   "metadata": {},
   "outputs": [],
   "source": [
    "bank_loans_edu_1 = bank_loans[bank_loans['Personal Loan'] == 'Yes']['Education Level'].value_counts()\n",
    "bank_loans_edu_1"
   ]
  },
  {
   "cell_type": "code",
   "execution_count": null,
   "metadata": {},
   "outputs": [],
   "source": [
    "plt.axis('equal')\n",
    "plt.title('Proportion of Customers With Different Levels of Education vs Personal Loan',\n",
    "          fontsize = 14, y = 1.3)\n",
    "labels = ['Education Level  Advanced/Professional',' Education Level Graduate ','Education Level Undergrad']\n",
    "plt.pie(bank_loans_edu_1, labels = labels, autopct= '%1.2f%%', shadow = True,explode = (0.1, 0, 0), radius = 1.6, startangle = 90);\n",
    "plt.savefig('Proportion_edu_levels_Personal_Loan.png', bbox_inches = 'tight');"
   ]
  },
  {
   "cell_type": "code",
   "execution_count": null,
   "metadata": {},
   "outputs": [],
   "source": []
  }
 ],
 "metadata": {
  "kernelspec": {
   "display_name": "Python [conda env:PythonData38] *",
   "language": "python",
   "name": "conda-env-PythonData38-py"
  },
  "language_info": {
   "codemirror_mode": {
    "name": "ipython",
    "version": 3
   },
   "file_extension": ".py",
   "mimetype": "text/x-python",
   "name": "python",
   "nbconvert_exporter": "python",
   "pygments_lexer": "ipython3",
   "version": "3.8.5"
  }
 },
 "nbformat": 4,
 "nbformat_minor": 4
}
